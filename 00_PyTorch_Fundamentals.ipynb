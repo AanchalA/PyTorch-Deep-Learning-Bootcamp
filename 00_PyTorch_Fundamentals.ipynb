{
  "nbformat": 4,
  "nbformat_minor": 0,
  "metadata": {
    "colab": {
      "provenance": [],
      "authorship_tag": "ABX9TyPb5v48Q7eWYGnyj9953NMe",
      "include_colab_link": true
    },
    "kernelspec": {
      "name": "python3",
      "display_name": "Python 3"
    },
    "language_info": {
      "name": "python"
    }
  },
  "cells": [
    {
      "cell_type": "markdown",
      "metadata": {
        "id": "view-in-github",
        "colab_type": "text"
      },
      "source": [
        "<a href=\"https://colab.research.google.com/github/AanchalA/PyTorch-Deep-Learning-Bootcamp/blob/main/00_PyTorch_Fundamentals.ipynb\" target=\"_parent\"><img src=\"https://colab.research.google.com/assets/colab-badge.svg\" alt=\"Open In Colab\"/></a>"
      ]
    },
    {
      "cell_type": "markdown",
      "source": [
        "### [PyTorch Fundamentals Course Resource](https://www.learnpytorch.io/00_pytorch_fundamentals/)\n",
        "\n",
        "- [Precision in Computing](https://en.wikipedia.org/wiki/Precision_(computer_science)\n",
        "- https://matrixmultiplication.xyz/\n",
        "- https://timdettmers.com/2023/01/30/which-gpu-for-deep-learning/"
      ],
      "metadata": {
        "id": "1_s6EE7_f5ik"
      }
    },
    {
      "cell_type": "code",
      "execution_count": null,
      "metadata": {
        "colab": {
          "base_uri": "https://localhost:8080/",
          "height": 35
        },
        "id": "FeZZelJwfXRt",
        "outputId": "7ef1d2e7-4d11-4d41-cea1-af989e668099"
      },
      "outputs": [
        {
          "output_type": "execute_result",
          "data": {
            "text/plain": [
              "'2.3.1+cu121'"
            ],
            "application/vnd.google.colaboratory.intrinsic+json": {
              "type": "string"
            }
          },
          "metadata": {},
          "execution_count": 1
        }
      ],
      "source": [
        "import torch\n",
        "torch.__version__"
      ]
    },
    {
      "cell_type": "code",
      "source": [
        "torch.cuda.is_available()"
      ],
      "metadata": {
        "colab": {
          "base_uri": "https://localhost:8080/"
        },
        "id": "0QIvZY1ifrYz",
        "outputId": "e8b8fe17-f3cd-4ebc-a3b0-cd44b355c670"
      },
      "execution_count": null,
      "outputs": [
        {
          "output_type": "execute_result",
          "data": {
            "text/plain": [
              "False"
            ]
          },
          "metadata": {},
          "execution_count": 2
        }
      ]
    },
    {
      "cell_type": "markdown",
      "source": [
        "# Creating Tensors"
      ],
      "metadata": {
        "id": "6NMAPcbahHXy"
      }
    },
    {
      "cell_type": "code",
      "source": [
        "torch.empty(3, 2)"
      ],
      "metadata": {
        "colab": {
          "base_uri": "https://localhost:8080/"
        },
        "id": "wxhQpwpigaFI",
        "outputId": "144b3583-23bf-416a-8690-57c575c9770e"
      },
      "execution_count": null,
      "outputs": [
        {
          "output_type": "execute_result",
          "data": {
            "text/plain": [
              "tensor([[6.8575e+22, 4.6114e+24],\n",
              "        [3.1842e-15, 3.0820e+32],\n",
              "        [1.7667e+22, 1.8177e+31]])"
            ]
          },
          "metadata": {},
          "execution_count": 3
        }
      ]
    },
    {
      "cell_type": "code",
      "source": [
        "torch.zeros(3, 2)"
      ],
      "metadata": {
        "colab": {
          "base_uri": "https://localhost:8080/"
        },
        "id": "h8ssrfyxgrle",
        "outputId": "6e754acd-9085-4ba6-ddac-07e33429a2ef"
      },
      "execution_count": null,
      "outputs": [
        {
          "output_type": "execute_result",
          "data": {
            "text/plain": [
              "tensor([[0., 0.],\n",
              "        [0., 0.],\n",
              "        [0., 0.]])"
            ]
          },
          "metadata": {},
          "execution_count": 4
        }
      ]
    },
    {
      "cell_type": "code",
      "source": [
        "torch.ones(3, 2)"
      ],
      "metadata": {
        "colab": {
          "base_uri": "https://localhost:8080/"
        },
        "id": "OBOKhgd4guqZ",
        "outputId": "753fac98-de35-4985-a6f8-39a39aef55ab"
      },
      "execution_count": null,
      "outputs": [
        {
          "output_type": "execute_result",
          "data": {
            "text/plain": [
              "tensor([[1., 1.],\n",
              "        [1., 1.],\n",
              "        [1., 1.]])"
            ]
          },
          "metadata": {},
          "execution_count": 5
        }
      ]
    },
    {
      "cell_type": "code",
      "source": [
        "# Scalar\n",
        "scalar = torch.tensor(3)     ## Creating a tensor from a list\n",
        "\n",
        "print(scalar)\n",
        "print(scalar.dtype)\n",
        "print(scalar.shape)\n",
        "print(scalar.size())\n",
        "print(scalar.device)\n",
        "print(scalar.ndim)\n",
        "print(scalar.item())"
      ],
      "metadata": {
        "colab": {
          "base_uri": "https://localhost:8080/"
        },
        "id": "CzHmeGbxhMYP",
        "outputId": "a7b54d3a-60bc-4d23-e108-607a7745226d"
      },
      "execution_count": null,
      "outputs": [
        {
          "output_type": "stream",
          "name": "stdout",
          "text": [
            "tensor(3)\n",
            "torch.int64\n",
            "torch.Size([])\n",
            "torch.Size([])\n",
            "cpu\n",
            "0\n",
            "3\n"
          ]
        }
      ]
    },
    {
      "cell_type": "code",
      "source": [
        "# Vector\n",
        "vector = torch.tensor([2, 3, 5, 6])        ## Creating a tensor from a list\n",
        "print(vector)\n",
        "print(vector.dtype)\n",
        "print(vector.shape)                     ## Gives the number of elements in the vector\n",
        "print(vector.size())\n",
        "print(vector.device)\n",
        "print(vector.ndim)"
      ],
      "metadata": {
        "colab": {
          "base_uri": "https://localhost:8080/"
        },
        "id": "hpXctYbfxJpX",
        "outputId": "c1c80101-555a-4bf4-df16-4c2ac0eea81b"
      },
      "execution_count": null,
      "outputs": [
        {
          "output_type": "stream",
          "name": "stdout",
          "text": [
            "tensor([2, 3, 5, 6])\n",
            "torch.int64\n",
            "torch.Size([4])\n",
            "torch.Size([4])\n",
            "cpu\n",
            "1\n"
          ]
        }
      ]
    },
    {
      "cell_type": "code",
      "source": [
        "# Matrix\n",
        "matrix = torch.tensor([[2, 3],\n",
        "                        [3, 4]])        ## Creating a tensor from a list\n",
        "print(matrix)\n",
        "print(matrix.dtype)\n",
        "print(matrix.shape)                     ## Gives the number of elements in the matrix or sub vectors\n",
        "print(matrix.size())\n",
        "print(matrix.device)\n",
        "print(matrix.ndim)"
      ],
      "metadata": {
        "colab": {
          "base_uri": "https://localhost:8080/"
        },
        "id": "1fqxEvR_uAW8",
        "outputId": "3806aaff-21a7-41ac-8879-99ab20418fbf"
      },
      "execution_count": null,
      "outputs": [
        {
          "output_type": "stream",
          "name": "stdout",
          "text": [
            "tensor([[2, 3],\n",
            "        [3, 4]])\n",
            "torch.int64\n",
            "torch.Size([2, 2])\n",
            "torch.Size([2, 2])\n",
            "cpu\n",
            "2\n"
          ]
        }
      ]
    },
    {
      "cell_type": "code",
      "source": [
        "# Tensor\n",
        "tensor = torch.tensor([[2, 3, 5, 6],\n",
        "                        [3, 4, 7, 6],\n",
        "                       [7, 8, 9, 0]])        ## Creating a tensor from a list\n",
        "print(tensor)\n",
        "print(tensor.dtype)\n",
        "print(tensor.shape)                     ## Gives the number of elements in the tensor or sub vectors\n",
        "print(tensor.size())\n",
        "print(tensor.device)\n",
        "print(tensor.ndim)"
      ],
      "metadata": {
        "colab": {
          "base_uri": "https://localhost:8080/"
        },
        "id": "jrpH6myFzqT-",
        "outputId": "ab044085-7187-417a-db15-52935de89384"
      },
      "execution_count": null,
      "outputs": [
        {
          "output_type": "stream",
          "name": "stdout",
          "text": [
            "tensor([[2, 3, 5, 6],\n",
            "        [3, 4, 7, 6],\n",
            "        [7, 8, 9, 0]])\n",
            "torch.int64\n",
            "torch.Size([3, 4])\n",
            "torch.Size([3, 4])\n",
            "cpu\n",
            "2\n"
          ]
        }
      ]
    },
    {
      "cell_type": "code",
      "source": [
        "# Tensor\n",
        "tensor = torch.tensor([[[2, 3, 5, 6],\n",
        "                        [3, 4, 7, 6],\n",
        "                       [7, 8, 9, 0]]])        ## Creating a tensor from a list\n",
        "print(tensor)\n",
        "print(tensor.dtype)\n",
        "print(tensor.shape)                     ## Gives the number of elements in the tensor or sub vectors\n",
        "print(tensor.size())\n",
        "print(tensor.device)\n",
        "print(tensor.ndim)"
      ],
      "metadata": {
        "colab": {
          "base_uri": "https://localhost:8080/"
        },
        "id": "NKt4vuUDwCV3",
        "outputId": "de84a92f-a64a-4fa2-a506-32a94c7a4bc9"
      },
      "execution_count": null,
      "outputs": [
        {
          "output_type": "stream",
          "name": "stdout",
          "text": [
            "tensor([[[2, 3, 5, 6],\n",
            "         [3, 4, 7, 6],\n",
            "         [7, 8, 9, 0]]])\n",
            "torch.int64\n",
            "torch.Size([1, 3, 4])\n",
            "torch.Size([1, 3, 4])\n",
            "cpu\n",
            "3\n"
          ]
        }
      ]
    },
    {
      "cell_type": "code",
      "source": [
        "# Tensor\n",
        "tensor = torch.tensor([[[[[2, 3, 5, 6],\n",
        "                        [3, 4, 7, 6],\n",
        "                       [7, 8, 9, 0]]]]])        ## Creating a tensor from a list\n",
        "print(tensor)\n",
        "print(tensor.dtype)\n",
        "print(tensor.shape)                     ## Gives the number of elements in the tensor or sub vectors\n",
        "print(tensor.size())\n",
        "print(tensor.device)\n",
        "print(tensor.ndim)"
      ],
      "metadata": {
        "colab": {
          "base_uri": "https://localhost:8080/"
        },
        "id": "7OoofnvDwQma",
        "outputId": "368177de-0771-44f7-fd84-449ec6882241"
      },
      "execution_count": null,
      "outputs": [
        {
          "output_type": "stream",
          "name": "stdout",
          "text": [
            "tensor([[[[[2, 3, 5, 6],\n",
            "           [3, 4, 7, 6],\n",
            "           [7, 8, 9, 0]]]]])\n",
            "torch.int64\n",
            "torch.Size([1, 1, 1, 3, 4])\n",
            "torch.Size([1, 1, 1, 3, 4])\n",
            "cpu\n",
            "5\n"
          ]
        }
      ]
    },
    {
      "cell_type": "code",
      "source": [
        "# Tensor\n",
        "tensor = torch.tensor([[[\n",
        "                        [[2, 3, 5, 6],\n",
        "                        [3, 4, 7, 6],\n",
        "                        [7, 8, 9, 0]],\n",
        "                        [[12, 23, 45, 5],\n",
        "                        [2, 3, 4, 5],\n",
        "                        [5, 6, 7, 8]]\n",
        "                        ]]])        ## Creating a tensor from a list\n",
        "print(tensor)\n",
        "print(tensor.dtype)\n",
        "print(tensor.shape)                     ## Gives the number of elements in the tensor or sub vectors\n",
        "print(tensor.size())\n",
        "print(tensor.device)\n",
        "print(tensor.ndim)"
      ],
      "metadata": {
        "colab": {
          "base_uri": "https://localhost:8080/"
        },
        "id": "C8R4dLcG0Rl1",
        "outputId": "7c5e1bdb-4f8b-4977-d553-4c07084cc666"
      },
      "execution_count": null,
      "outputs": [
        {
          "output_type": "stream",
          "name": "stdout",
          "text": [
            "tensor([[[[[ 2,  3,  5,  6],\n",
            "           [ 3,  4,  7,  6],\n",
            "           [ 7,  8,  9,  0]],\n",
            "\n",
            "          [[12, 23, 45,  5],\n",
            "           [ 2,  3,  4,  5],\n",
            "           [ 5,  6,  7,  8]]]]])\n",
            "torch.int64\n",
            "torch.Size([1, 1, 2, 3, 4])\n",
            "torch.Size([1, 1, 2, 3, 4])\n",
            "cpu\n",
            "5\n"
          ]
        }
      ]
    },
    {
      "cell_type": "code",
      "source": [
        "print(tensor[0])\n",
        "print(tensor[0][0])\n",
        "print(tensor[0][0][0])\n",
        "print(tensor[0][0][0][0])\n",
        "print(tensor[0][0][0][0][0])\n",
        "print(tensor[0][0][0][0][0].item())"
      ],
      "metadata": {
        "colab": {
          "base_uri": "https://localhost:8080/"
        },
        "id": "nB2vCUa_0_uQ",
        "outputId": "1398f786-c61b-429c-ba2b-5d657ff7969d"
      },
      "execution_count": null,
      "outputs": [
        {
          "output_type": "stream",
          "name": "stdout",
          "text": [
            "tensor([[[[ 2,  3,  5,  6],\n",
            "          [ 3,  4,  7,  6],\n",
            "          [ 7,  8,  9,  0]],\n",
            "\n",
            "         [[12, 23, 45,  5],\n",
            "          [ 2,  3,  4,  5],\n",
            "          [ 5,  6,  7,  8]]]])\n",
            "tensor([[[ 2,  3,  5,  6],\n",
            "         [ 3,  4,  7,  6],\n",
            "         [ 7,  8,  9,  0]],\n",
            "\n",
            "        [[12, 23, 45,  5],\n",
            "         [ 2,  3,  4,  5],\n",
            "         [ 5,  6,  7,  8]]])\n",
            "tensor([[2, 3, 5, 6],\n",
            "        [3, 4, 7, 6],\n",
            "        [7, 8, 9, 0]])\n",
            "tensor([2, 3, 5, 6])\n",
            "tensor(2)\n",
            "2\n"
          ]
        }
      ]
    },
    {
      "cell_type": "markdown",
      "source": [
        "## Creating Random Tensors"
      ],
      "metadata": {
        "id": "7368DOET3B5l"
      }
    },
    {
      "cell_type": "code",
      "source": [
        "torch.rand(3, 2)"
      ],
      "metadata": {
        "colab": {
          "base_uri": "https://localhost:8080/"
        },
        "id": "ZdI8nO1cgkHw",
        "outputId": "519d47bc-ae47-402e-847b-cadf9266dba3"
      },
      "execution_count": null,
      "outputs": [
        {
          "output_type": "execute_result",
          "data": {
            "text/plain": [
              "tensor([[0.8869, 0.9758],\n",
              "        [0.8340, 0.5714],\n",
              "        [0.3350, 0.3020]])"
            ]
          },
          "metadata": {},
          "execution_count": 14
        }
      ]
    },
    {
      "cell_type": "code",
      "source": [
        "torch.randn(3, 2)           ## Normal Distrobution"
      ],
      "metadata": {
        "colab": {
          "base_uri": "https://localhost:8080/"
        },
        "id": "WFQyIswwgmsy",
        "outputId": "108a2d54-5cd2-4583-ee55-2649fad1ca0d"
      },
      "execution_count": null,
      "outputs": [
        {
          "output_type": "execute_result",
          "data": {
            "text/plain": [
              "tensor([[-0.5089, -1.9524],\n",
              "        [ 1.2930, -0.5533],\n",
              "        [-1.7458,  0.6482]])"
            ]
          },
          "metadata": {},
          "execution_count": 15
        }
      ]
    },
    {
      "cell_type": "code",
      "source": [
        "# Tensor with similar shape to an image tensor\n",
        "random_image_size_tensor = torch.rand(size=(224, 224, 3))           ## size = (height, width, n_colour_channels(R, G, B))\n",
        "print(random_image_size_tensor.shape)\n",
        "print(random_image_size_tensor.ndim)"
      ],
      "metadata": {
        "colab": {
          "base_uri": "https://localhost:8080/"
        },
        "id": "gATV_rjR3FaZ",
        "outputId": "414b0976-03b9-4122-ac54-084c56cd3452"
      },
      "execution_count": null,
      "outputs": [
        {
          "output_type": "stream",
          "name": "stdout",
          "text": [
            "torch.Size([224, 224, 3])\n",
            "3\n"
          ]
        }
      ]
    },
    {
      "cell_type": "code",
      "source": [
        "ones = torch.ones(4, 5)\n",
        "random = torch.rand(4, 5)\n",
        "print(ones)\n",
        "print(random)\n",
        "print(ones * random)            ## Here elementwise multiplication operation happens"
      ],
      "metadata": {
        "colab": {
          "base_uri": "https://localhost:8080/"
        },
        "id": "0PWEryvvzd2r",
        "outputId": "6809df58-8637-4518-bd24-4c86b72aeee5"
      },
      "execution_count": null,
      "outputs": [
        {
          "output_type": "stream",
          "name": "stdout",
          "text": [
            "tensor([[1., 1., 1., 1., 1.],\n",
            "        [1., 1., 1., 1., 1.],\n",
            "        [1., 1., 1., 1., 1.],\n",
            "        [1., 1., 1., 1., 1.]])\n",
            "tensor([[0.6039, 0.1227, 0.7464, 0.4889, 0.9022],\n",
            "        [0.9593, 0.3882, 0.0263, 0.6441, 0.2032],\n",
            "        [0.5394, 0.3415, 0.5553, 0.1126, 0.6286],\n",
            "        [0.9057, 0.6511, 0.8022, 0.4142, 0.7474]])\n",
            "tensor([[0.6039, 0.1227, 0.7464, 0.4889, 0.9022],\n",
            "        [0.9593, 0.3882, 0.0263, 0.6441, 0.2032],\n",
            "        [0.5394, 0.3415, 0.5553, 0.1126, 0.6286],\n",
            "        [0.9057, 0.6511, 0.8022, 0.4142, 0.7474]])\n"
          ]
        }
      ]
    },
    {
      "cell_type": "code",
      "source": [
        "t = torch.arange(0, 10, 4)"
      ],
      "metadata": {
        "id": "5cS213g-0Du6"
      },
      "execution_count": null,
      "outputs": []
    },
    {
      "cell_type": "code",
      "source": [
        "torch.zeros_like(t)"
      ],
      "metadata": {
        "colab": {
          "base_uri": "https://localhost:8080/"
        },
        "id": "8TWR4MOy2FoH",
        "outputId": "719d6b69-0410-425f-c281-375bf3958042"
      },
      "execution_count": null,
      "outputs": [
        {
          "output_type": "execute_result",
          "data": {
            "text/plain": [
              "tensor([0, 0, 0])"
            ]
          },
          "metadata": {},
          "execution_count": 19
        }
      ]
    },
    {
      "cell_type": "code",
      "source": [
        "torch.ones_like(t)"
      ],
      "metadata": {
        "colab": {
          "base_uri": "https://localhost:8080/"
        },
        "id": "Q_6oCI0V4MJv",
        "outputId": "2e7e0da5-308e-42b9-d6ac-73d6d6655072"
      },
      "execution_count": null,
      "outputs": [
        {
          "output_type": "execute_result",
          "data": {
            "text/plain": [
              "tensor([1, 1, 1])"
            ]
          },
          "metadata": {},
          "execution_count": 20
        }
      ]
    },
    {
      "cell_type": "code",
      "source": [
        "torch.empty_like(t)"
      ],
      "metadata": {
        "colab": {
          "base_uri": "https://localhost:8080/"
        },
        "id": "X23x3xFa4PuG",
        "outputId": "b059374e-bad4-4f2b-b23c-d01e7774143d"
      },
      "execution_count": null,
      "outputs": [
        {
          "output_type": "execute_result",
          "data": {
            "text/plain": [
              "tensor([139553703218544, 139553703218544,              32])"
            ]
          },
          "metadata": {},
          "execution_count": 21
        }
      ]
    },
    {
      "cell_type": "code",
      "source": [
        "t.new_zeros(2, 3)            ## the returned Tensor has the same torch.dtype and torch.device as this tensor t."
      ],
      "metadata": {
        "colab": {
          "base_uri": "https://localhost:8080/"
        },
        "id": "BI7Y68dA4VO4",
        "outputId": "0a550b22-6442-423c-a305-03163f877df9"
      },
      "execution_count": null,
      "outputs": [
        {
          "output_type": "execute_result",
          "data": {
            "text/plain": [
              "tensor([[0, 0, 0],\n",
              "        [0, 0, 0]])"
            ]
          },
          "metadata": {},
          "execution_count": 22
        }
      ]
    },
    {
      "cell_type": "code",
      "source": [
        "float_32_t = torch.randint(high=5, size=(1,2))\n",
        "float_32_t"
      ],
      "metadata": {
        "colab": {
          "base_uri": "https://localhost:8080/"
        },
        "id": "iA5xuVsf6tj7",
        "outputId": "5ce89d51-bceb-4ab0-94b0-6de7b37dda7b"
      },
      "execution_count": null,
      "outputs": [
        {
          "output_type": "execute_result",
          "data": {
            "text/plain": [
              "tensor([[4, 4]])"
            ]
          },
          "metadata": {},
          "execution_count": 23
        }
      ]
    },
    {
      "cell_type": "code",
      "source": [
        "float_32_t = torch.arange(0, 10, step=2, dtype=torch.float32)\n",
        "print(float_32_t.dtype)\n",
        "float_32_t"
      ],
      "metadata": {
        "colab": {
          "base_uri": "https://localhost:8080/"
        },
        "id": "oZg4Ap8l6uuD",
        "outputId": "b53aafa2-84c2-47e2-d062-6b7368d1fd34"
      },
      "execution_count": null,
      "outputs": [
        {
          "output_type": "stream",
          "name": "stdout",
          "text": [
            "torch.float32\n"
          ]
        },
        {
          "output_type": "execute_result",
          "data": {
            "text/plain": [
              "tensor([0., 2., 4., 6., 8.])"
            ]
          },
          "metadata": {},
          "execution_count": 24
        }
      ]
    },
    {
      "cell_type": "code",
      "source": [
        "t_16 = float_32_t.type(torch.float16)\n",
        "t_16"
      ],
      "metadata": {
        "colab": {
          "base_uri": "https://localhost:8080/"
        },
        "id": "RqZ8y1BV8npI",
        "outputId": "647e43fa-6299-4337-ab0f-478cd2534925"
      },
      "execution_count": null,
      "outputs": [
        {
          "output_type": "execute_result",
          "data": {
            "text/plain": [
              "tensor([0., 2., 4., 6., 8.], dtype=torch.float16)"
            ]
          },
          "metadata": {},
          "execution_count": 25
        }
      ]
    },
    {
      "cell_type": "code",
      "source": [
        "float_32_t * t_16"
      ],
      "metadata": {
        "colab": {
          "base_uri": "https://localhost:8080/"
        },
        "id": "bZdKC_n38uJk",
        "outputId": "c6c0d2c9-3583-4068-fdaa-74053b869263"
      },
      "execution_count": null,
      "outputs": [
        {
          "output_type": "execute_result",
          "data": {
            "text/plain": [
              "tensor([ 0.,  4., 16., 36., 64.])"
            ]
          },
          "metadata": {},
          "execution_count": 26
        }
      ]
    },
    {
      "cell_type": "code",
      "source": [
        "float_32_t * float_32_t.type(torch.complex128)"
      ],
      "metadata": {
        "colab": {
          "base_uri": "https://localhost:8080/"
        },
        "id": "7X5nr9A69Etk",
        "outputId": "61e85df7-2818-4de5-fe9f-8089f9566d93"
      },
      "execution_count": null,
      "outputs": [
        {
          "output_type": "execute_result",
          "data": {
            "text/plain": [
              "tensor([ 0.+0.j,  4.+0.j, 16.+0.j, 36.+0.j, 64.+0.j], dtype=torch.complex128)"
            ]
          },
          "metadata": {},
          "execution_count": 27
        }
      ]
    },
    {
      "cell_type": "markdown",
      "source": [
        "## Getting Information from Tensors"
      ],
      "metadata": {
        "id": "qfg8voJ3Mk3J"
      }
    },
    {
      "cell_type": "code",
      "source": [
        "ten = torch.rand(3, 4)\n",
        "print(ten.dtype)\n",
        "print(ten.shape)\n",
        "print(ten.size())\n",
        "print(ten.device)\n",
        "print(ten.ndim)"
      ],
      "metadata": {
        "colab": {
          "base_uri": "https://localhost:8080/"
        },
        "id": "eEsAdZIxMn7H",
        "outputId": "df5b6da7-02b4-4864-e1f0-e92faee96274"
      },
      "execution_count": null,
      "outputs": [
        {
          "output_type": "stream",
          "name": "stdout",
          "text": [
            "torch.float32\n",
            "torch.Size([3, 4])\n",
            "torch.Size([3, 4])\n",
            "cpu\n",
            "2\n"
          ]
        }
      ]
    },
    {
      "cell_type": "markdown",
      "source": [
        "## Matrix Multiplication"
      ],
      "metadata": {
        "id": "lUCANMO8St50"
      }
    },
    {
      "cell_type": "code",
      "source": [
        "tensor = torch.tensor([1, 2, 3])\n",
        "tensor"
      ],
      "metadata": {
        "colab": {
          "base_uri": "https://localhost:8080/"
        },
        "id": "hNiQlzQkQjiC",
        "outputId": "acf2636a-e19e-4061-db69-cc5071b5f251"
      },
      "execution_count": null,
      "outputs": [
        {
          "output_type": "execute_result",
          "data": {
            "text/plain": [
              "tensor([1, 2, 3])"
            ]
          },
          "metadata": {},
          "execution_count": 29
        }
      ]
    },
    {
      "cell_type": "code",
      "source": [
        "%%time\n",
        "torch.matmul(tensor, tensor)"
      ],
      "metadata": {
        "colab": {
          "base_uri": "https://localhost:8080/"
        },
        "id": "O4qMOFzOQnnN",
        "outputId": "1cbadb9c-d733-4d6a-f920-f1c6bde7d0cf"
      },
      "execution_count": null,
      "outputs": [
        {
          "output_type": "stream",
          "name": "stdout",
          "text": [
            "CPU times: user 546 µs, sys: 102 µs, total: 648 µs\n",
            "Wall time: 12.7 ms\n"
          ]
        },
        {
          "output_type": "execute_result",
          "data": {
            "text/plain": [
              "tensor(14)"
            ]
          },
          "metadata": {},
          "execution_count": 30
        }
      ]
    },
    {
      "cell_type": "code",
      "source": [
        "%%time\n",
        "tensor @ tensor"
      ],
      "metadata": {
        "colab": {
          "base_uri": "https://localhost:8080/"
        },
        "id": "xxoTcC6HRhHT",
        "outputId": "72a0eab1-ee80-4288-b464-2e3084d0d7d8"
      },
      "execution_count": null,
      "outputs": [
        {
          "output_type": "stream",
          "name": "stdout",
          "text": [
            "CPU times: user 7.26 ms, sys: 1.06 ms, total: 8.32 ms\n",
            "Wall time: 18.8 ms\n"
          ]
        },
        {
          "output_type": "execute_result",
          "data": {
            "text/plain": [
              "tensor(14)"
            ]
          },
          "metadata": {},
          "execution_count": 31
        }
      ]
    },
    {
      "cell_type": "code",
      "source": [
        "%%time\n",
        "value = 0\n",
        "for i in range(len(tensor)):\n",
        "    value += tensor[i] * tensor[i]\n",
        "print(value)"
      ],
      "metadata": {
        "colab": {
          "base_uri": "https://localhost:8080/"
        },
        "id": "Ql9wjzqqQr9_",
        "outputId": "abd29d02-9788-4d7c-d261-a612be0fe4eb"
      },
      "execution_count": null,
      "outputs": [
        {
          "output_type": "stream",
          "name": "stdout",
          "text": [
            "tensor(14)\n",
            "CPU times: user 691 µs, sys: 812 µs, total: 1.5 ms\n",
            "Wall time: 5.89 ms\n"
          ]
        }
      ]
    },
    {
      "cell_type": "code",
      "source": [
        "ten_a = torch.tensor([[1, 2],\n",
        "                      [3, 4],\n",
        "                      [5, 6]])\n",
        "ten_b = torch.tensor([[1, 2, 3],\n",
        "                      [4, 5, 6]])\n",
        "ten_c = torch.tensor([[7, 8],\n",
        "                      [9, 10],\n",
        "                      [11, 12]])\n",
        "print(ten_a.shape)\n",
        "print(ten_b.shape)\n",
        "print(ten_c.shape)"
      ],
      "metadata": {
        "colab": {
          "base_uri": "https://localhost:8080/"
        },
        "id": "0LQQnOrNSxmg",
        "outputId": "a269f8a7-c6fc-422f-eda0-b2af04b51392"
      },
      "execution_count": null,
      "outputs": [
        {
          "output_type": "stream",
          "name": "stdout",
          "text": [
            "torch.Size([3, 2])\n",
            "torch.Size([2, 3])\n",
            "torch.Size([3, 2])\n"
          ]
        }
      ]
    },
    {
      "cell_type": "code",
      "source": [
        "torch.mm(ten_a, ten_c.T)"
      ],
      "metadata": {
        "colab": {
          "base_uri": "https://localhost:8080/"
        },
        "id": "uc6S_yNNSxE4",
        "outputId": "749b6adb-2f9c-4d89-b076-deb13ef8051a"
      },
      "execution_count": null,
      "outputs": [
        {
          "output_type": "execute_result",
          "data": {
            "text/plain": [
              "tensor([[ 23,  29,  35],\n",
              "        [ 53,  67,  81],\n",
              "        [ 83, 105, 127]])"
            ]
          },
          "metadata": {},
          "execution_count": 34
        }
      ]
    },
    {
      "cell_type": "markdown",
      "source": [
        "## Tensor Aggregration\n",
        "- Min, Max, Sum, Mean"
      ],
      "metadata": {
        "id": "0u4zrN5uVpGL"
      }
    },
    {
      "cell_type": "code",
      "source": [
        "tensor = torch.arange(0, 100, step=10)\n",
        "tensor"
      ],
      "metadata": {
        "colab": {
          "base_uri": "https://localhost:8080/"
        },
        "id": "WWGbG9mHVvJf",
        "outputId": "1db62922-5ee3-4b0f-fbcc-83dc8f844d03"
      },
      "execution_count": null,
      "outputs": [
        {
          "output_type": "execute_result",
          "data": {
            "text/plain": [
              "tensor([ 0, 10, 20, 30, 40, 50, 60, 70, 80, 90])"
            ]
          },
          "metadata": {},
          "execution_count": 35
        }
      ]
    },
    {
      "cell_type": "code",
      "source": [
        "torch.min(tensor), torch.max(tensor)"
      ],
      "metadata": {
        "colab": {
          "base_uri": "https://localhost:8080/"
        },
        "id": "qPqM26hkV-dB",
        "outputId": "c03a5fa9-ad1d-46d1-8c41-bb96bf2f99c7"
      },
      "execution_count": null,
      "outputs": [
        {
          "output_type": "execute_result",
          "data": {
            "text/plain": [
              "(tensor(0), tensor(90))"
            ]
          },
          "metadata": {},
          "execution_count": 36
        }
      ]
    },
    {
      "cell_type": "code",
      "source": [
        "tensor.min(), tensor.max()"
      ],
      "metadata": {
        "colab": {
          "base_uri": "https://localhost:8080/"
        },
        "id": "Qk9kcZyPXMLa",
        "outputId": "cf115b32-17c6-4589-d967-a4e1ab8546c9"
      },
      "execution_count": null,
      "outputs": [
        {
          "output_type": "execute_result",
          "data": {
            "text/plain": [
              "(tensor(0), tensor(90))"
            ]
          },
          "metadata": {},
          "execution_count": 37
        }
      ]
    },
    {
      "cell_type": "code",
      "source": [
        "torch.sum(tensor)"
      ],
      "metadata": {
        "colab": {
          "base_uri": "https://localhost:8080/"
        },
        "id": "LAYxgjDTWQaC",
        "outputId": "73c03665-0cf9-4d8e-d363-ba4d7eb53256"
      },
      "execution_count": null,
      "outputs": [
        {
          "output_type": "execute_result",
          "data": {
            "text/plain": [
              "tensor(450)"
            ]
          },
          "metadata": {},
          "execution_count": 38
        }
      ]
    },
    {
      "cell_type": "code",
      "source": [
        "tensor.sum()"
      ],
      "metadata": {
        "colab": {
          "base_uri": "https://localhost:8080/"
        },
        "id": "DAPq2Oi7XO9B",
        "outputId": "356251ce-3c15-4874-8f5d-e80d8c6304a5"
      },
      "execution_count": null,
      "outputs": [
        {
          "output_type": "execute_result",
          "data": {
            "text/plain": [
              "tensor(450)"
            ]
          },
          "metadata": {},
          "execution_count": 39
        }
      ]
    },
    {
      "cell_type": "code",
      "source": [
        "torch.mean(tensor.type(torch.float32))"
      ],
      "metadata": {
        "colab": {
          "base_uri": "https://localhost:8080/"
        },
        "id": "XAOvBHHxWXI7",
        "outputId": "bef979f6-7349-47b3-b311-fa3c0bf04c6f"
      },
      "execution_count": null,
      "outputs": [
        {
          "output_type": "execute_result",
          "data": {
            "text/plain": [
              "tensor(45.)"
            ]
          },
          "metadata": {},
          "execution_count": 40
        }
      ]
    },
    {
      "cell_type": "code",
      "source": [
        "tensor.type(torch.float32).mean()"
      ],
      "metadata": {
        "colab": {
          "base_uri": "https://localhost:8080/"
        },
        "id": "5q7qLtKOXRkB",
        "outputId": "ea52c4a5-6ba4-4d09-ac49-69f6ac7bdb7a"
      },
      "execution_count": null,
      "outputs": [
        {
          "output_type": "execute_result",
          "data": {
            "text/plain": [
              "tensor(45.)"
            ]
          },
          "metadata": {},
          "execution_count": 41
        }
      ]
    },
    {
      "cell_type": "code",
      "source": [
        "torch.argmin(tensor), tensor.argmin()       ## Returns the index of the min element"
      ],
      "metadata": {
        "colab": {
          "base_uri": "https://localhost:8080/"
        },
        "id": "GhGc04ZVX80F",
        "outputId": "1729c484-f69d-4fa7-9cea-a782826c30f8"
      },
      "execution_count": null,
      "outputs": [
        {
          "output_type": "execute_result",
          "data": {
            "text/plain": [
              "(tensor(0), tensor(0))"
            ]
          },
          "metadata": {},
          "execution_count": 42
        }
      ]
    },
    {
      "cell_type": "code",
      "source": [
        "tensor[tensor.argmin().item()]"
      ],
      "metadata": {
        "colab": {
          "base_uri": "https://localhost:8080/"
        },
        "id": "uf8oG00AYh4z",
        "outputId": "420a8532-8497-432c-835e-f07524f78d14"
      },
      "execution_count": null,
      "outputs": [
        {
          "output_type": "execute_result",
          "data": {
            "text/plain": [
              "tensor(0)"
            ]
          },
          "metadata": {},
          "execution_count": 43
        }
      ]
    },
    {
      "cell_type": "code",
      "source": [
        "torch.argmax(tensor), tensor.argmax()       ## Returns the index of the max element"
      ],
      "metadata": {
        "colab": {
          "base_uri": "https://localhost:8080/"
        },
        "id": "I1uO0NZAYDw5",
        "outputId": "2f05d1ac-afb5-4c87-fc8f-8ad32700ccec"
      },
      "execution_count": null,
      "outputs": [
        {
          "output_type": "execute_result",
          "data": {
            "text/plain": [
              "(tensor(9), tensor(9))"
            ]
          },
          "metadata": {},
          "execution_count": 44
        }
      ]
    },
    {
      "cell_type": "code",
      "source": [
        "tensor[tensor.argmax().item()]"
      ],
      "metadata": {
        "colab": {
          "base_uri": "https://localhost:8080/"
        },
        "id": "5l26-JSWYpIU",
        "outputId": "d556603b-1012-4e49-a278-0755778de070"
      },
      "execution_count": null,
      "outputs": [
        {
          "output_type": "execute_result",
          "data": {
            "text/plain": [
              "tensor(90)"
            ]
          },
          "metadata": {},
          "execution_count": 45
        }
      ]
    },
    {
      "cell_type": "markdown",
      "source": [
        "## Reshaping, Stacking, Squeezing and Unsqueezing\n",
        "- Reshape - Reshapes the input tensor\n",
        "- View - Returns the tensor in the specified shape, but maps to the same memory location.\n",
        "- Stacking - Combining multiple tensors together, either on top of each other (vstack/vertical-stack/dim=0), side by side (h-stack, horizontal-stack/dim=1)\n",
        "- Squeeze - Removes all '1' dimensions from the tensor\n",
        "- Unsqueeze - Adds a '1' dimension to a target tensor.\n",
        "- Permute - Return a view of the tensor with the dimensions permuted / swapped / rearranged in a certain way."
      ],
      "metadata": {
        "id": "ZtBWSEWwaj5D"
      }
    },
    {
      "cell_type": "code",
      "source": [
        "import torch"
      ],
      "metadata": {
        "id": "yXhLLYTyaoVd"
      },
      "execution_count": null,
      "outputs": []
    },
    {
      "cell_type": "code",
      "source": [
        "x = torch.arange(1., 10.)\n",
        "print(x)\n",
        "print(x.ndim)\n",
        "print(x.shape)"
      ],
      "metadata": {
        "id": "QMzrz4jObTgF",
        "colab": {
          "base_uri": "https://localhost:8080/"
        },
        "outputId": "7947c36b-f604-4334-f739-25eafe735337"
      },
      "execution_count": null,
      "outputs": [
        {
          "output_type": "stream",
          "name": "stdout",
          "text": [
            "tensor([1., 2., 3., 4., 5., 6., 7., 8., 9.])\n",
            "1\n",
            "torch.Size([9])\n"
          ]
        }
      ]
    },
    {
      "cell_type": "code",
      "source": [
        "# Reshape\n",
        "# Adding an extra dimension to x, the new size should be factors of the original size.\n",
        "reshaped = x.reshape(1, 9)\n",
        "print(reshaped)\n",
        "print(reshaped.ndim)\n",
        "print(reshaped.shape)"
      ],
      "metadata": {
        "colab": {
          "base_uri": "https://localhost:8080/"
        },
        "id": "iXnTSm0EWQa1",
        "outputId": "d1a6711a-9685-4f2d-a09f-6041ec7e6bb0"
      },
      "execution_count": null,
      "outputs": [
        {
          "output_type": "stream",
          "name": "stdout",
          "text": [
            "tensor([[1., 2., 3., 4., 5., 6., 7., 8., 9.]])\n",
            "2\n",
            "torch.Size([1, 9])\n"
          ]
        }
      ]
    },
    {
      "cell_type": "code",
      "source": [
        "# View\n",
        "# Returns the tensor in the specified shape, but maps to the same memory location.\n",
        "# Any changes made to z will reflect in x\n",
        "z = x.view(3, 3)\n",
        "z"
      ],
      "metadata": {
        "colab": {
          "base_uri": "https://localhost:8080/"
        },
        "id": "87Qy7QzAZxzs",
        "outputId": "e01426ea-00d3-41cb-8280-023333741775"
      },
      "execution_count": null,
      "outputs": [
        {
          "output_type": "execute_result",
          "data": {
            "text/plain": [
              "tensor([[1., 2., 3.],\n",
              "        [4., 5., 6.],\n",
              "        [7., 8., 9.]])"
            ]
          },
          "metadata": {},
          "execution_count": 49
        }
      ]
    },
    {
      "cell_type": "code",
      "source": [
        "z[:, 2] = 5\n",
        "z, x"
      ],
      "metadata": {
        "colab": {
          "base_uri": "https://localhost:8080/"
        },
        "id": "m1d01h0dbmg5",
        "outputId": "9bdcd25c-8973-473a-ecbb-04c469a60fbe"
      },
      "execution_count": null,
      "outputs": [
        {
          "output_type": "execute_result",
          "data": {
            "text/plain": [
              "(tensor([[1., 2., 5.],\n",
              "         [4., 5., 5.],\n",
              "         [7., 8., 5.]]),\n",
              " tensor([1., 2., 5., 4., 5., 5., 7., 8., 5.]))"
            ]
          },
          "metadata": {},
          "execution_count": 50
        }
      ]
    },
    {
      "cell_type": "code",
      "source": [
        "## Stack - dim=0=vstack, dim=1=hstack (dim = 1 has a different behaviour than troch.hstack)\n",
        "x_stacked = torch.stack([x, x, x, x], dim=1)        ## For dim=1, all the values of a column are getting concatenated into a single row\n",
        "x_stacked"
      ],
      "metadata": {
        "colab": {
          "base_uri": "https://localhost:8080/"
        },
        "id": "z-WMzHYtb72k",
        "outputId": "d8f99dc5-c5cd-4b37-ad68-41e4ce9671db"
      },
      "execution_count": null,
      "outputs": [
        {
          "output_type": "execute_result",
          "data": {
            "text/plain": [
              "tensor([[1., 1., 1., 1.],\n",
              "        [2., 2., 2., 2.],\n",
              "        [5., 5., 5., 5.],\n",
              "        [4., 4., 4., 4.],\n",
              "        [5., 5., 5., 5.],\n",
              "        [5., 5., 5., 5.],\n",
              "        [7., 7., 7., 7.],\n",
              "        [8., 8., 8., 8.],\n",
              "        [5., 5., 5., 5.]])"
            ]
          },
          "metadata": {},
          "execution_count": 51
        }
      ]
    },
    {
      "cell_type": "code",
      "source": [
        "v_stacked = torch.vstack([x, x, x, x])      ## Same as torch.stack(dim=0)\n",
        "v_stacked"
      ],
      "metadata": {
        "colab": {
          "base_uri": "https://localhost:8080/"
        },
        "id": "7_vfkqtbcufg",
        "outputId": "a54ded69-f96b-4a31-ca64-1a26893b6f44"
      },
      "execution_count": null,
      "outputs": [
        {
          "output_type": "execute_result",
          "data": {
            "text/plain": [
              "tensor([[1., 2., 5., 4., 5., 5., 7., 8., 5.],\n",
              "        [1., 2., 5., 4., 5., 5., 7., 8., 5.],\n",
              "        [1., 2., 5., 4., 5., 5., 7., 8., 5.],\n",
              "        [1., 2., 5., 4., 5., 5., 7., 8., 5.]])"
            ]
          },
          "metadata": {},
          "execution_count": 52
        }
      ]
    },
    {
      "cell_type": "code",
      "source": [
        "h_stacked = torch.hstack([x, x, x, x])      ## Here all the elements got stacked into a single row, one column after another.\n",
        "h_stacked"
      ],
      "metadata": {
        "colab": {
          "base_uri": "https://localhost:8080/"
        },
        "id": "3b8y2Af6c06l",
        "outputId": "b8b0eaf9-6695-4743-e03d-954aa2eac85a"
      },
      "execution_count": null,
      "outputs": [
        {
          "output_type": "execute_result",
          "data": {
            "text/plain": [
              "tensor([1., 2., 5., 4., 5., 5., 7., 8., 5., 1., 2., 5., 4., 5., 5., 7., 8., 5.,\n",
              "        1., 2., 5., 4., 5., 5., 7., 8., 5., 1., 2., 5., 4., 5., 5., 7., 8., 5.])"
            ]
          },
          "metadata": {},
          "execution_count": 53
        }
      ]
    },
    {
      "cell_type": "code",
      "source": [
        "## Squeeze\n",
        "y = x.reshape(1, 3, 3, 1)\n",
        "print(y)\n",
        "s = y.squeeze()\n",
        "print(s)\n",
        "s[:, 0] = 5             ## Squeeze shares the memory location with the original tensor\n",
        "s, y"
      ],
      "metadata": {
        "colab": {
          "base_uri": "https://localhost:8080/"
        },
        "id": "h5z0Gk7bIPd4",
        "outputId": "16258f39-e825-48e4-c263-520cb5abaca4"
      },
      "execution_count": null,
      "outputs": [
        {
          "output_type": "stream",
          "name": "stdout",
          "text": [
            "tensor([[[[1.],\n",
            "          [2.],\n",
            "          [5.]],\n",
            "\n",
            "         [[4.],\n",
            "          [5.],\n",
            "          [5.]],\n",
            "\n",
            "         [[7.],\n",
            "          [8.],\n",
            "          [5.]]]])\n",
            "tensor([[1., 2., 5.],\n",
            "        [4., 5., 5.],\n",
            "        [7., 8., 5.]])\n"
          ]
        },
        {
          "output_type": "execute_result",
          "data": {
            "text/plain": [
              "(tensor([[5., 2., 5.],\n",
              "         [5., 5., 5.],\n",
              "         [5., 8., 5.]]),\n",
              " tensor([[[[5.],\n",
              "           [2.],\n",
              "           [5.]],\n",
              " \n",
              "          [[5.],\n",
              "           [5.],\n",
              "           [5.]],\n",
              " \n",
              "          [[5.],\n",
              "           [8.],\n",
              "           [5.]]]]))"
            ]
          },
          "metadata": {},
          "execution_count": 54
        }
      ]
    },
    {
      "cell_type": "code",
      "source": [
        "print(x.shape)\n",
        "print(x.ndim)\n",
        "x.unsqueeze(dim=0).shape, x.unsqueeze(dim=1).shape"
      ],
      "metadata": {
        "colab": {
          "base_uri": "https://localhost:8080/"
        },
        "id": "nhLrGKYlL02w",
        "outputId": "fc179812-334e-42f7-dfc6-f4e2cdaae9fc"
      },
      "execution_count": null,
      "outputs": [
        {
          "output_type": "stream",
          "name": "stdout",
          "text": [
            "torch.Size([9])\n",
            "1\n"
          ]
        },
        {
          "output_type": "execute_result",
          "data": {
            "text/plain": [
              "(torch.Size([1, 9]), torch.Size([9, 1]))"
            ]
          },
          "metadata": {},
          "execution_count": 55
        }
      ]
    },
    {
      "cell_type": "code",
      "source": [
        "## Permute\n",
        "y.shape, y.permute(1, 0, 3, 2).shape"
      ],
      "metadata": {
        "colab": {
          "base_uri": "https://localhost:8080/"
        },
        "id": "rYwicL0BMfj8",
        "outputId": "11fdfbb0-e84e-4d5b-c27f-3ff747045f41"
      },
      "execution_count": null,
      "outputs": [
        {
          "output_type": "execute_result",
          "data": {
            "text/plain": [
              "(torch.Size([1, 3, 3, 1]), torch.Size([3, 1, 1, 3]))"
            ]
          },
          "metadata": {},
          "execution_count": 56
        }
      ]
    },
    {
      "cell_type": "code",
      "source": [
        "y, y.permute(1, 0, 3, 2)"
      ],
      "metadata": {
        "colab": {
          "base_uri": "https://localhost:8080/"
        },
        "id": "Wc5UqpeOM8bJ",
        "outputId": "972ed5b5-923f-4f1d-ce0d-f8f6e406ab8f"
      },
      "execution_count": null,
      "outputs": [
        {
          "output_type": "execute_result",
          "data": {
            "text/plain": [
              "(tensor([[[[5.],\n",
              "           [2.],\n",
              "           [5.]],\n",
              " \n",
              "          [[5.],\n",
              "           [5.],\n",
              "           [5.]],\n",
              " \n",
              "          [[5.],\n",
              "           [8.],\n",
              "           [5.]]]]),\n",
              " tensor([[[[5., 2., 5.]]],\n",
              " \n",
              " \n",
              "         [[[5., 5., 5.]]],\n",
              " \n",
              " \n",
              "         [[[5., 8., 5.]]]]))"
            ]
          },
          "metadata": {},
          "execution_count": 57
        }
      ]
    },
    {
      "cell_type": "markdown",
      "source": [
        "## Indexing"
      ],
      "metadata": {
        "id": "WI3HhXjxOPff"
      }
    },
    {
      "cell_type": "code",
      "source": [
        "import torch"
      ],
      "metadata": {
        "id": "8m5q0ZldOQ7y"
      },
      "execution_count": null,
      "outputs": []
    },
    {
      "cell_type": "code",
      "source": [
        "x = torch.arange(1, 10).reshape(1, 3, 3)\n",
        "print(x)\n",
        "print(x.ndim)\n",
        "print(x.shape)"
      ],
      "metadata": {
        "colab": {
          "base_uri": "https://localhost:8080/"
        },
        "id": "kv_pTUsnOYGb",
        "outputId": "c2fce1cb-271a-43c2-e18c-f9155a969be4"
      },
      "execution_count": null,
      "outputs": [
        {
          "output_type": "stream",
          "name": "stdout",
          "text": [
            "tensor([[[1, 2, 3],\n",
            "         [4, 5, 6],\n",
            "         [7, 8, 9]]])\n",
            "3\n",
            "torch.Size([1, 3, 3])\n"
          ]
        }
      ]
    },
    {
      "cell_type": "code",
      "source": [
        "x[0]"
      ],
      "metadata": {
        "colab": {
          "base_uri": "https://localhost:8080/"
        },
        "id": "ZYdgF1iQOwcE",
        "outputId": "67f1d763-b737-4c41-f1e7-1c4fa0074662"
      },
      "execution_count": null,
      "outputs": [
        {
          "output_type": "execute_result",
          "data": {
            "text/plain": [
              "tensor([[1, 2, 3],\n",
              "        [4, 5, 6],\n",
              "        [7, 8, 9]])"
            ]
          },
          "metadata": {},
          "execution_count": 60
        }
      ]
    },
    {
      "cell_type": "code",
      "source": [
        "x[0][0]"
      ],
      "metadata": {
        "colab": {
          "base_uri": "https://localhost:8080/"
        },
        "id": "beLWacfvOxwS",
        "outputId": "621432cf-124b-4413-9603-9867214130b4"
      },
      "execution_count": null,
      "outputs": [
        {
          "output_type": "execute_result",
          "data": {
            "text/plain": [
              "tensor([1, 2, 3])"
            ]
          },
          "metadata": {},
          "execution_count": 61
        }
      ]
    },
    {
      "cell_type": "code",
      "source": [
        "x[0, 0]"
      ],
      "metadata": {
        "colab": {
          "base_uri": "https://localhost:8080/"
        },
        "id": "MPN21a_kO1da",
        "outputId": "c9dc5ad9-1d7c-4571-d6d5-b2a9382ce181"
      },
      "execution_count": null,
      "outputs": [
        {
          "output_type": "execute_result",
          "data": {
            "text/plain": [
              "tensor([1, 2, 3])"
            ]
          },
          "metadata": {},
          "execution_count": 62
        }
      ]
    },
    {
      "cell_type": "code",
      "source": [
        "x[0][0][0].item()"
      ],
      "metadata": {
        "colab": {
          "base_uri": "https://localhost:8080/"
        },
        "id": "ze_GMOY1O78z",
        "outputId": "d658cf48-a931-4228-acb0-98ea79f096c9"
      },
      "execution_count": null,
      "outputs": [
        {
          "output_type": "execute_result",
          "data": {
            "text/plain": [
              "1"
            ]
          },
          "metadata": {},
          "execution_count": 63
        }
      ]
    },
    {
      "cell_type": "code",
      "source": [
        "# \":\" can be used to select all of the elements of that particular dimension\n",
        "x[:, 0]             ### Taking all the dimensions from dim=0 and 0th element from dim=1"
      ],
      "metadata": {
        "colab": {
          "base_uri": "https://localhost:8080/"
        },
        "id": "_Q4JID1PPvx6",
        "outputId": "515eef0a-2851-4f72-8908-4f6783a54c01"
      },
      "execution_count": null,
      "outputs": [
        {
          "output_type": "execute_result",
          "data": {
            "text/plain": [
              "tensor([[1, 2, 3]])"
            ]
          },
          "metadata": {},
          "execution_count": 64
        }
      ]
    },
    {
      "cell_type": "code",
      "source": [
        "# taking all values from dim 0 and 1 and 1st element from dim=2\n",
        "x[:, :, 1]"
      ],
      "metadata": {
        "colab": {
          "base_uri": "https://localhost:8080/"
        },
        "id": "6oL82UNSP7Aj",
        "outputId": "c7d7eab6-9865-4f11-efdf-cb7bc80d3fa2"
      },
      "execution_count": null,
      "outputs": [
        {
          "output_type": "execute_result",
          "data": {
            "text/plain": [
              "tensor([[2, 5, 8]])"
            ]
          },
          "metadata": {},
          "execution_count": 65
        }
      ]
    },
    {
      "cell_type": "code",
      "source": [
        "# taking all values from dim=0 but only 1st index from dim 1 and 2\n",
        "x[:, 1, 1]"
      ],
      "metadata": {
        "colab": {
          "base_uri": "https://localhost:8080/"
        },
        "id": "qGMKCEVFQZhS",
        "outputId": "3662b3ea-ffcc-45a1-8297-bec19be37c9b"
      },
      "execution_count": null,
      "outputs": [
        {
          "output_type": "execute_result",
          "data": {
            "text/plain": [
              "tensor([5])"
            ]
          },
          "metadata": {},
          "execution_count": 66
        }
      ]
    },
    {
      "cell_type": "code",
      "source": [
        "x[0, 2, 2]"
      ],
      "metadata": {
        "colab": {
          "base_uri": "https://localhost:8080/"
        },
        "id": "vmSeQjlwYD1c",
        "outputId": "1217e009-ece2-44e1-8e4b-c04aa626a077"
      },
      "execution_count": null,
      "outputs": [
        {
          "output_type": "execute_result",
          "data": {
            "text/plain": [
              "tensor(9)"
            ]
          },
          "metadata": {},
          "execution_count": 67
        }
      ]
    },
    {
      "cell_type": "code",
      "source": [
        "x[:, :, 2]"
      ],
      "metadata": {
        "colab": {
          "base_uri": "https://localhost:8080/"
        },
        "id": "ywaJ89FfYJeH",
        "outputId": "97da526c-d039-45df-d177-7685deec8de4"
      },
      "execution_count": null,
      "outputs": [
        {
          "output_type": "execute_result",
          "data": {
            "text/plain": [
              "tensor([[3, 6, 9]])"
            ]
          },
          "metadata": {},
          "execution_count": 68
        }
      ]
    },
    {
      "cell_type": "code",
      "source": [
        "x = torch.arange(100).reshape(2, 2, 5, 5)\n",
        "x"
      ],
      "metadata": {
        "colab": {
          "base_uri": "https://localhost:8080/"
        },
        "id": "Zvv52B_aYijp",
        "outputId": "d05d5864-4af2-437b-c9ec-ea1686c51853"
      },
      "execution_count": null,
      "outputs": [
        {
          "output_type": "execute_result",
          "data": {
            "text/plain": [
              "tensor([[[[ 0,  1,  2,  3,  4],\n",
              "          [ 5,  6,  7,  8,  9],\n",
              "          [10, 11, 12, 13, 14],\n",
              "          [15, 16, 17, 18, 19],\n",
              "          [20, 21, 22, 23, 24]],\n",
              "\n",
              "         [[25, 26, 27, 28, 29],\n",
              "          [30, 31, 32, 33, 34],\n",
              "          [35, 36, 37, 38, 39],\n",
              "          [40, 41, 42, 43, 44],\n",
              "          [45, 46, 47, 48, 49]]],\n",
              "\n",
              "\n",
              "        [[[50, 51, 52, 53, 54],\n",
              "          [55, 56, 57, 58, 59],\n",
              "          [60, 61, 62, 63, 64],\n",
              "          [65, 66, 67, 68, 69],\n",
              "          [70, 71, 72, 73, 74]],\n",
              "\n",
              "         [[75, 76, 77, 78, 79],\n",
              "          [80, 81, 82, 83, 84],\n",
              "          [85, 86, 87, 88, 89],\n",
              "          [90, 91, 92, 93, 94],\n",
              "          [95, 96, 97, 98, 99]]]])"
            ]
          },
          "metadata": {},
          "execution_count": 69
        }
      ]
    },
    {
      "cell_type": "code",
      "source": [
        "x[:, 0, 4, :]"
      ],
      "metadata": {
        "colab": {
          "base_uri": "https://localhost:8080/"
        },
        "id": "N5GSzY5dZWwX",
        "outputId": "317bb0f1-a4d0-44d8-9655-ee5576051973"
      },
      "execution_count": null,
      "outputs": [
        {
          "output_type": "execute_result",
          "data": {
            "text/plain": [
              "tensor([[20, 21, 22, 23, 24],\n",
              "        [70, 71, 72, 73, 74]])"
            ]
          },
          "metadata": {},
          "execution_count": 70
        }
      ]
    },
    {
      "cell_type": "markdown",
      "source": [
        "## PyTorch and NumPy"
      ],
      "metadata": {
        "id": "6cldXBFiaBwc"
      }
    },
    {
      "cell_type": "code",
      "source": [
        "## NumPy Array to Tensor\n",
        "import numpy as np\n",
        "import torch"
      ],
      "metadata": {
        "id": "QmGLD3lPaA1S"
      },
      "execution_count": null,
      "outputs": []
    },
    {
      "cell_type": "code",
      "source": [
        "array = np.arange(1.0, 8.0)                     ## default dtype == float64\n",
        "tensor = torch.from_numpy(array)                ## default dtype == float32\n",
        "array, tensor, tensor.type(torch.float32), tensor.type(torch.float32).dtype"
      ],
      "metadata": {
        "colab": {
          "base_uri": "https://localhost:8080/"
        },
        "id": "unv9PZMaaRsx",
        "outputId": "03760454-8107-4ffb-a72d-577d98c19bb1"
      },
      "execution_count": null,
      "outputs": [
        {
          "output_type": "execute_result",
          "data": {
            "text/plain": [
              "(array([1., 2., 3., 4., 5., 6., 7.]),\n",
              " tensor([1., 2., 3., 4., 5., 6., 7.], dtype=torch.float64),\n",
              " tensor([1., 2., 3., 4., 5., 6., 7.]),\n",
              " torch.float32)"
            ]
          },
          "metadata": {},
          "execution_count": 72
        }
      ]
    },
    {
      "cell_type": "code",
      "source": [
        "array.dtype"
      ],
      "metadata": {
        "colab": {
          "base_uri": "https://localhost:8080/"
        },
        "id": "GBYzNP0jabn3",
        "outputId": "743fcc33-b97b-4f04-9bab-22688ae73a65"
      },
      "execution_count": null,
      "outputs": [
        {
          "output_type": "execute_result",
          "data": {
            "text/plain": [
              "dtype('float64')"
            ]
          },
          "metadata": {},
          "execution_count": 73
        }
      ]
    },
    {
      "cell_type": "code",
      "source": [
        "tensor"
      ],
      "metadata": {
        "colab": {
          "base_uri": "https://localhost:8080/"
        },
        "id": "kYJ5JQ1IbNWZ",
        "outputId": "5b83aafe-0aab-4a8b-cce5-ffa1fc80d7a8"
      },
      "execution_count": null,
      "outputs": [
        {
          "output_type": "execute_result",
          "data": {
            "text/plain": [
              "tensor([1., 2., 3., 4., 5., 6., 7.], dtype=torch.float64)"
            ]
          },
          "metadata": {},
          "execution_count": 74
        }
      ]
    },
    {
      "cell_type": "code",
      "source": [
        "# array += 1\n",
        "array = array + 1\n",
        "array, tensor"
      ],
      "metadata": {
        "colab": {
          "base_uri": "https://localhost:8080/"
        },
        "id": "l246fB0Ma4il",
        "outputId": "b3af975e-e2ea-4d82-9d10-a9766fe9d34e"
      },
      "execution_count": null,
      "outputs": [
        {
          "output_type": "execute_result",
          "data": {
            "text/plain": [
              "(array([2., 3., 4., 5., 6., 7., 8.]),\n",
              " tensor([1., 2., 3., 4., 5., 6., 7.], dtype=torch.float64))"
            ]
          },
          "metadata": {},
          "execution_count": 75
        }
      ]
    },
    {
      "cell_type": "code",
      "source": [
        "## Tensor to Numpy Array\n",
        "ones = torch.ones(7)\n",
        "n_array = ones.numpy()\n",
        "ones, n_array"
      ],
      "metadata": {
        "colab": {
          "base_uri": "https://localhost:8080/"
        },
        "id": "_4pUvmLXbQ1A",
        "outputId": "6cfbac6a-4a6a-4957-f498-f66f67f9cd2d"
      },
      "execution_count": null,
      "outputs": [
        {
          "output_type": "execute_result",
          "data": {
            "text/plain": [
              "(tensor([1., 1., 1., 1., 1., 1., 1.]),\n",
              " array([1., 1., 1., 1., 1., 1., 1.], dtype=float32))"
            ]
          },
          "metadata": {},
          "execution_count": 76
        }
      ]
    },
    {
      "cell_type": "code",
      "source": [
        "n_array.dtype"
      ],
      "metadata": {
        "colab": {
          "base_uri": "https://localhost:8080/"
        },
        "id": "mxK0tIAdbi-l",
        "outputId": "23789729-8fda-4230-f00a-cd24ecb74319"
      },
      "execution_count": null,
      "outputs": [
        {
          "output_type": "execute_result",
          "data": {
            "text/plain": [
              "dtype('float32')"
            ]
          },
          "metadata": {},
          "execution_count": 77
        }
      ]
    },
    {
      "cell_type": "code",
      "source": [
        "ones = ones + 1\n",
        "ones, n_array"
      ],
      "metadata": {
        "colab": {
          "base_uri": "https://localhost:8080/"
        },
        "id": "eNxmeYAlbnSZ",
        "outputId": "81895ce5-2173-45c3-bf51-55191c8b98d5"
      },
      "execution_count": null,
      "outputs": [
        {
          "output_type": "execute_result",
          "data": {
            "text/plain": [
              "(tensor([2., 2., 2., 2., 2., 2., 2.]),\n",
              " array([1., 1., 1., 1., 1., 1., 1.], dtype=float32))"
            ]
          },
          "metadata": {},
          "execution_count": 78
        }
      ]
    },
    {
      "cell_type": "markdown",
      "source": [
        "## Reproducibility\n",
        "- Trying to take out the random out of random\n",
        "- https://pytorch.org/docs/stable/notes/randomness.html\n",
        "- https://en.wikipedia.org/wiki/Random_seed"
      ],
      "metadata": {
        "id": "dYB-S8Dob7S7"
      }
    },
    {
      "cell_type": "code",
      "source": [
        "rand_A = torch.rand(3, 4)\n",
        "rand_B = torch.rand(3, 4)\n",
        "print(rand_A)\n",
        "print(rand_B)\n",
        "print(rand_A == rand_B)"
      ],
      "metadata": {
        "colab": {
          "base_uri": "https://localhost:8080/"
        },
        "id": "2xUqdcXtb_Eb",
        "outputId": "3f63e263-b3cc-42ae-a1b8-94035b64524a"
      },
      "execution_count": null,
      "outputs": [
        {
          "output_type": "stream",
          "name": "stdout",
          "text": [
            "tensor([[0.7890, 0.0113, 0.6176, 0.7638],\n",
            "        [0.2827, 0.4934, 0.6360, 0.2694],\n",
            "        [0.5124, 0.3348, 0.9193, 0.1261]])\n",
            "tensor([[0.7754, 0.4756, 0.9363, 0.9576],\n",
            "        [0.6828, 0.1344, 0.2629, 0.7087],\n",
            "        [0.9067, 0.0379, 0.9578, 0.1972]])\n",
            "tensor([[False, False, False, False],\n",
            "        [False, False, False, False],\n",
            "        [False, False, False, False]])\n"
          ]
        }
      ]
    },
    {
      "cell_type": "code",
      "source": [
        "RANDOM_SEED = 42\n",
        "torch.manual_seed(RANDOM_SEED)"
      ],
      "metadata": {
        "colab": {
          "base_uri": "https://localhost:8080/"
        },
        "id": "_OIxLh1MeGHN",
        "outputId": "fa3498c5-75d7-437e-d5b1-fccc6357838c"
      },
      "execution_count": null,
      "outputs": [
        {
          "output_type": "execute_result",
          "data": {
            "text/plain": [
              "<torch._C.Generator at 0x7eec2a74c4f0>"
            ]
          },
          "metadata": {},
          "execution_count": 80
        }
      ]
    },
    {
      "cell_type": "code",
      "source": [
        "torch.manual_seed(RANDOM_SEED)\n",
        "rand_C = torch.rand(3, 4)\n",
        "\n",
        "torch.manual_seed(RANDOM_SEED)\n",
        "rand_D = torch.rand(3, 4)\n",
        "\n",
        "print(rand_C)\n",
        "print(rand_D)\n",
        "print(rand_C == rand_D)"
      ],
      "metadata": {
        "colab": {
          "base_uri": "https://localhost:8080/"
        },
        "id": "ZNILq2EXec1a",
        "outputId": "064a894e-1aa1-4c6d-82b9-7bddfaa02f27"
      },
      "execution_count": null,
      "outputs": [
        {
          "output_type": "stream",
          "name": "stdout",
          "text": [
            "tensor([[0.8823, 0.9150, 0.3829, 0.9593],\n",
            "        [0.3904, 0.6009, 0.2566, 0.7936],\n",
            "        [0.9408, 0.1332, 0.9346, 0.5936]])\n",
            "tensor([[0.8823, 0.9150, 0.3829, 0.9593],\n",
            "        [0.3904, 0.6009, 0.2566, 0.7936],\n",
            "        [0.9408, 0.1332, 0.9346, 0.5936]])\n",
            "tensor([[True, True, True, True],\n",
            "        [True, True, True, True],\n",
            "        [True, True, True, True]])\n"
          ]
        }
      ]
    },
    {
      "cell_type": "markdown",
      "source": [
        "## LEN() V/s NUMEL()"
      ],
      "metadata": {
        "id": "8NLjBUO7LRCr"
      }
    },
    {
      "cell_type": "code",
      "source": [
        "rand_D"
      ],
      "metadata": {
        "id": "vsxCGKZnel3p",
        "colab": {
          "base_uri": "https://localhost:8080/"
        },
        "outputId": "7ea46694-2a4f-4618-8032-fe84c6d37fdd"
      },
      "execution_count": null,
      "outputs": [
        {
          "output_type": "execute_result",
          "data": {
            "text/plain": [
              "tensor([[0.8823, 0.9150, 0.3829, 0.9593],\n",
              "        [0.3904, 0.6009, 0.2566, 0.7936],\n",
              "        [0.9408, 0.1332, 0.9346, 0.5936]])"
            ]
          },
          "metadata": {},
          "execution_count": 82
        }
      ]
    },
    {
      "cell_type": "code",
      "source": [
        "len(rand_D)"
      ],
      "metadata": {
        "id": "F4chR4l_LYYr",
        "outputId": "b44ef813-8e16-4258-e5d7-cfce2b50fd90",
        "colab": {
          "base_uri": "https://localhost:8080/"
        }
      },
      "execution_count": null,
      "outputs": [
        {
          "output_type": "execute_result",
          "data": {
            "text/plain": [
              "3"
            ]
          },
          "metadata": {},
          "execution_count": 83
        }
      ]
    },
    {
      "cell_type": "code",
      "source": [
        "rand_D.numel()"
      ],
      "metadata": {
        "id": "X6sU9jkzLar9",
        "outputId": "08804f4a-2c43-456d-ed8e-83ed6f695887",
        "colab": {
          "base_uri": "https://localhost:8080/"
        }
      },
      "execution_count": null,
      "outputs": [
        {
          "output_type": "execute_result",
          "data": {
            "text/plain": [
              "12"
            ]
          },
          "metadata": {},
          "execution_count": 84
        }
      ]
    },
    {
      "cell_type": "markdown",
      "source": [
        "# On CPU V/s On GPU"
      ],
      "metadata": {
        "id": "xKGU-4o0ZUMQ"
      }
    },
    {
      "cell_type": "code",
      "source": [
        "import torch"
      ],
      "metadata": {
        "id": "jUAo0eYXZiHi"
      },
      "execution_count": null,
      "outputs": []
    },
    {
      "cell_type": "code",
      "source": [
        "# device will be 'cuda' if a GPU is available\n",
        "device = torch.device('cuda' if torch.cuda.is_available() else 'cpu')\n",
        "\n",
        "# creating a CPU tensor\n",
        "cpu_tensor = torch.rand(10)#.to(device)\n",
        "# moving same tensor to GPU\n",
        "gpu_tensor = cpu_tensor.to(device)\n",
        "\n",
        "print(cpu_tensor, cpu_tensor.dtype, type(cpu_tensor), cpu_tensor.type())\n",
        "print(\"\\n\")\n",
        "print(gpu_tensor, gpu_tensor.dtype, type(gpu_tensor), gpu_tensor.type())\n",
        "print(\"\\n\")\n",
        "print(cpu_tensor*gpu_tensor)"
      ],
      "metadata": {
        "colab": {
          "base_uri": "https://localhost:8080/"
        },
        "id": "enj2K7M9ZX36",
        "outputId": "c902a585-3f5f-43d7-b5d5-72ef7f986be9"
      },
      "execution_count": null,
      "outputs": [
        {
          "output_type": "stream",
          "name": "stdout",
          "text": [
            "tensor([0.7622, 0.6634, 0.7805, 0.7244, 0.2123, 0.7325, 0.3430, 0.6874, 0.1623,\n",
            "        0.3456]) torch.float32 <class 'torch.Tensor'> torch.FloatTensor\n",
            "\n",
            "\n",
            "tensor([0.7622, 0.6634, 0.7805, 0.7244, 0.2123, 0.7325, 0.3430, 0.6874, 0.1623,\n",
            "        0.3456]) torch.float32 <class 'torch.Tensor'> torch.FloatTensor\n",
            "\n",
            "\n",
            "tensor([0.5809, 0.4401, 0.6092, 0.5248, 0.0451, 0.5366, 0.1176, 0.4725, 0.0263,\n",
            "        0.1194])\n"
          ]
        }
      ]
    },
    {
      "cell_type": "code",
      "source": [
        "cpu_tensor.dtype, type(cpu_tensor), cpu_tensor.type()"
      ],
      "metadata": {
        "colab": {
          "base_uri": "https://localhost:8080/"
        },
        "id": "ZuVL61lpZej_",
        "outputId": "e646a450-c5cf-4bfe-8ef3-73efcd36ce3a"
      },
      "execution_count": null,
      "outputs": [
        {
          "output_type": "execute_result",
          "data": {
            "text/plain": [
              "(torch.float32, torch.Tensor, 'torch.FloatTensor')"
            ]
          },
          "metadata": {},
          "execution_count": 3
        }
      ]
    },
    {
      "cell_type": "code",
      "source": [
        "gpu_tensor.cpu().detach().numpy()               ## Creating numpy array from a gpu tensor\n",
        "# Here cpu() will move the data to cpu\n",
        "# detach() - will remove all the gradient values and keep only the weight values. Detaching the tensor from the computational graph.\n",
        "# numpy() - will covnvert the data to a numpy array."
      ],
      "metadata": {
        "colab": {
          "base_uri": "https://localhost:8080/"
        },
        "id": "mcZ1v7NSZk29",
        "outputId": "09105e96-f695-428d-875b-778a828358cd"
      },
      "execution_count": null,
      "outputs": [
        {
          "output_type": "execute_result",
          "data": {
            "text/plain": [
              "array([0.66258526, 0.34856766, 0.22606683, 0.7315991 , 0.43217194,\n",
              "       0.4060076 , 0.518014  , 0.21797276, 0.80032915, 0.7552764 ],\n",
              "      dtype=float32)"
            ]
          },
          "metadata": {},
          "execution_count": 4
        }
      ]
    }
  ]
}