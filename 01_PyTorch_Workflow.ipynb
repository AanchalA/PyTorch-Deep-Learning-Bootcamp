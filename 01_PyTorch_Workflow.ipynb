{
  "nbformat": 4,
  "nbformat_minor": 0,
  "metadata": {
    "colab": {
      "provenance": [],
      "authorship_tag": "ABX9TyNmkuv7zMhcoGNq9X2+tH8G",
      "include_colab_link": true
    },
    "kernelspec": {
      "name": "python3",
      "display_name": "Python 3"
    },
    "language_info": {
      "name": "python"
    }
  },
  "cells": [
    {
      "cell_type": "markdown",
      "metadata": {
        "id": "view-in-github",
        "colab_type": "text"
      },
      "source": [
        "<a href=\"https://colab.research.google.com/github/AanchalA/PyTorch-Deep-Learning-Bootcamp/blob/main/01_PyTorch_Workflow.ipynb\" target=\"_parent\"><img src=\"https://colab.research.google.com/assets/colab-badge.svg\" alt=\"Open In Colab\"/></a>"
      ]
    },
    {
      "cell_type": "markdown",
      "source": [
        "- https://www.learnpytorch.io/01_pytorch_workflow/\n",
        "- PyTorch Cheat Sheet - https://pytorch.org/tutorials/beginner/ptcheat.html"
      ],
      "metadata": {
        "id": "kikqUYFTgl-b"
      }
    },
    {
      "cell_type": "code",
      "execution_count": null,
      "metadata": {
        "colab": {
          "base_uri": "https://localhost:8080/",
          "height": 35
        },
        "id": "ZmVkye8yfzsN",
        "outputId": "d5905533-4f92-4299-bb72-a14fc16038e1"
      },
      "outputs": [
        {
          "output_type": "execute_result",
          "data": {
            "text/plain": [
              "'2.3.1+cu121'"
            ],
            "application/vnd.google.colaboratory.intrinsic+json": {
              "type": "string"
            }
          },
          "metadata": {},
          "execution_count": 1
        }
      ],
      "source": [
        "import torch\n",
        "from torch import nn                ## Contains all of pytorchs' building blocks for neural networks\n",
        "import matplotlib.pyplot as plt\n",
        "\n",
        "torch.__version__"
      ]
    },
    {
      "cell_type": "markdown",
      "source": [
        "## Data Preparation and Loading\n",
        "\n",
        "Data preparation using linear regression formula:\n",
        "- We'll make a straight line with the linear regression formula with known parameters\n",
        "\n"
      ],
      "metadata": {
        "id": "CKc__b-gh6yK"
      }
    },
    {
      "cell_type": "code",
      "source": [
        "# Create the \"known\" parameters\n",
        "\n",
        "weight = 0.7\n",
        "bias = 0.3"
      ],
      "metadata": {
        "id": "2Di2lfiQh6d1"
      },
      "execution_count": null,
      "outputs": []
    },
    {
      "cell_type": "code",
      "source": [
        "## Creating the data\n",
        "\n",
        "start = 0\n",
        "end = 1\n",
        "step = 0.02\n",
        "\n",
        "X = torch.arange(start, end, step).unsqueeze(dim=1)         ## SHAPE: ([50]) --> ([50, 1])\n",
        "y = weight * X + bias"
      ],
      "metadata": {
        "id": "qjqiaPNqjlMB"
      },
      "execution_count": null,
      "outputs": []
    },
    {
      "cell_type": "code",
      "source": [
        "X[:10], y[:10]"
      ],
      "metadata": {
        "colab": {
          "base_uri": "https://localhost:8080/"
        },
        "id": "JjaG5BXZkEdI",
        "outputId": "71574487-6d7f-4bd6-e403-a32111503f6c"
      },
      "execution_count": null,
      "outputs": [
        {
          "output_type": "execute_result",
          "data": {
            "text/plain": [
              "(tensor([[0.0000],\n",
              "         [0.0200],\n",
              "         [0.0400],\n",
              "         [0.0600],\n",
              "         [0.0800],\n",
              "         [0.1000],\n",
              "         [0.1200],\n",
              "         [0.1400],\n",
              "         [0.1600],\n",
              "         [0.1800]]),\n",
              " tensor([[0.3000],\n",
              "         [0.3140],\n",
              "         [0.3280],\n",
              "         [0.3420],\n",
              "         [0.3560],\n",
              "         [0.3700],\n",
              "         [0.3840],\n",
              "         [0.3980],\n",
              "         [0.4120],\n",
              "         [0.4260]]))"
            ]
          },
          "metadata": {},
          "execution_count": 4
        }
      ]
    },
    {
      "cell_type": "code",
      "source": [
        "len(X), len(y)"
      ],
      "metadata": {
        "colab": {
          "base_uri": "https://localhost:8080/"
        },
        "id": "95aFN0f0k7il",
        "outputId": "617dd787-2a2d-4a86-d627-0bf79771ec07"
      },
      "execution_count": null,
      "outputs": [
        {
          "output_type": "execute_result",
          "data": {
            "text/plain": [
              "(50, 50)"
            ]
          },
          "metadata": {},
          "execution_count": 5
        }
      ]
    },
    {
      "cell_type": "code",
      "source": [
        "plt.plot(X, y)"
      ],
      "metadata": {
        "colab": {
          "base_uri": "https://localhost:8080/",
          "height": 447
        },
        "id": "N7ACkRB5lNxu",
        "outputId": "3146f36d-7ef7-4a11-adb0-4771c422cec2"
      },
      "execution_count": null,
      "outputs": [
        {
          "output_type": "execute_result",
          "data": {
            "text/plain": [
              "[<matplotlib.lines.Line2D at 0x7f45c5b67c70>]"
            ]
          },
          "metadata": {},
          "execution_count": 6
        },
        {
          "output_type": "display_data",
          "data": {
            "text/plain": [
              "<Figure size 640x480 with 1 Axes>"
            ],
            "image/png": "[encoded data removed]"
          },
          "metadata": {}
        }
      ]
    },
    {
      "cell_type": "markdown",
      "source": [
        "## Splitting data into train and test sets"
      ],
      "metadata": {
        "id": "xJDyrRM3lifg"
      }
    },
    {
      "cell_type": "code",
      "source": [
        "train_split = int(0.8 * len(X))\n",
        "train_split"
      ],
      "metadata": {
        "colab": {
          "base_uri": "https://localhost:8080/"
        },
        "id": "zeM733TLlmqG",
        "outputId": "d18e4b0f-e43f-4e28-ff12-8ce8b6b9d0f8"
      },
      "execution_count": null,
      "outputs": [
        {
          "output_type": "execute_result",
          "data": {
            "text/plain": [
              "40"
            ]
          },
          "metadata": {},
          "execution_count": 7
        }
      ]
    },
    {
      "cell_type": "code",
      "source": [
        "X_train, y_train = X[:train_split], y[:train_split]\n",
        "X_test, y_test = X[train_split:], y[train_split:]"
      ],
      "metadata": {
        "id": "rDLO5PBuqb0l"
      },
      "execution_count": null,
      "outputs": []
    },
    {
      "cell_type": "code",
      "source": [
        "len(X_train), len(y_train), len(X_test), len(y_test)"
      ],
      "metadata": {
        "colab": {
          "base_uri": "https://localhost:8080/"
        },
        "id": "N-ZkBmOoqv0P",
        "outputId": "25fc8143-32e0-4ac1-dee7-f737418e345b"
      },
      "execution_count": null,
      "outputs": [
        {
          "output_type": "execute_result",
          "data": {
            "text/plain": [
              "(40, 40, 10, 10)"
            ]
          },
          "metadata": {},
          "execution_count": 9
        }
      ]
    },
    {
      "cell_type": "markdown",
      "source": [
        "## Data Visualization"
      ],
      "metadata": {
        "id": "-3mvmv5BrPqr"
      }
    },
    {
      "cell_type": "code",
      "source": [
        "def plot_prediction(\n",
        "        train_data=X_train,\n",
        "        train_labels=y_train,\n",
        "        test_data=X_test,\n",
        "        test_labels=y_test,\n",
        "        predictions=None):\n",
        "    \"\"\"\n",
        "    Plots trainind data, test data and compares predictions\n",
        "    \"\"\"\n",
        "    plt.figure(figsize=(10, 7))\n",
        "\n",
        "    plt.scatter(train_data, train_labels, c='b', s=4, label=\"Training Data\")\n",
        "    plt.scatter(test_data, test_labels, c='g', s=4, label=\"Testing Data\")\n",
        "\n",
        "    if predictions is not None:\n",
        "        plt.scatter(test_data, predictions, c='r', s=4, label=\"Predictions\")\n",
        "\n",
        "    plt.legend(prop={\"size\": 14})"
      ],
      "metadata": {
        "id": "ARukE98eq39D"
      },
      "execution_count": null,
      "outputs": []
    },
    {
      "cell_type": "code",
      "source": [
        "plot_prediction()"
      ],
      "metadata": {
        "colab": {
          "base_uri": "https://localhost:8080/",
          "height": 599
        },
        "id": "JQBS0u3ZtKIB",
        "outputId": "73feb0bd-044d-4318-b2fc-20aef3a56494"
      },
      "execution_count": null,
      "outputs": [
        {
          "output_type": "display_data",
          "data": {
            "text/plain": [
              "<Figure size 1000x700 with 1 Axes>"
            ],
            "image/png": "[encoded data removed]"
          },
          "metadata": {}
        }
      ]
    },
    {
      "cell_type": "markdown",
      "source": [
        "## Building a PyTorch Model\n",
        "\n",
        "Through two main algorithms:\n",
        "\n",
        "- Gradient descent - https://youtu.be/IHZwWFHWa-w\n",
        "- Backpropagation - https://youtu.be/Ilg3gGewQ5U\n",
        "- PyTorch AutoGrad - https://pytorch.org/docs/stable/autograd.html\n",
        "\n",
        "\n",
        "---\n",
        "\n",
        "\n",
        "PyTorch module\tWhat does it do?\n",
        "- `torch.nn` - Contains all of the building blocks for computational graphs (essentially a series of computations executed in a particular way).\n",
        "- `torch.nn.Parameter` - Stores tensors that can be used with nn.Module. If requires_grad=True gradients (used for updating model parameters via gradient descent) are calculated automatically, this is often referred to as \"autograd\".\n",
        "- `torch.nn.Module` - The base class for all neural network modules, all the building blocks for neural networks are subclasses. If you're building a neural network in PyTorch, your models should subclass nn.Module. Requires a forward() method be implemented.\n",
        "- `torch.optim` - Contains various optimization algorithms (these tell the model parameters stored in nn.Parameter how to best change to improve gradient descent and in turn reduce the loss).\n",
        "- `def forward()` -\tAll nn.Module subclasses require a forward() method, this defines the computation that will take place on the data passed to the particular nn.Module (e.g. the linear regression formula above).\n",
        "- `torch.utils.data.Dataset`\n",
        "- `torch.utils.data.DataLoader`"
      ],
      "metadata": {
        "id": "G2vBqfoZty1z"
      }
    },
    {
      "cell_type": "code",
      "source": [
        "class LinearRegressionModel(nn.Module):\n",
        "    def __init__(self):\n",
        "        super().__init__()\n",
        "        self.weights = nn.Parameter(torch.randn(1,\n",
        "                                                requires_grad=True,\n",
        "                                                dtype=torch.float))         ## torch.float32\n",
        "        self.bias = nn.Parameter(torch.randn(1,\n",
        "                                             requires_grad=True,\n",
        "                                             dtype=torch.float))            ## torch.float32\n",
        "    def forward(self, x: torch.Tensor) -> torch.Tensor:\n",
        "        return self.weights * x + self.bias"
      ],
      "metadata": {
        "id": "t1eFrgcCtMK1"
      },
      "execution_count": null,
      "outputs": []
    },
    {
      "cell_type": "code",
      "source": [
        "torch.manual_seed(42)\n",
        "model = LinearRegressionModel()\n",
        "model"
      ],
      "metadata": {
        "colab": {
          "base_uri": "https://localhost:8080/"
        },
        "id": "yX-4UudoEWQ2",
        "outputId": "d74b4ad1-d73f-47b9-b19a-1cfb72826002"
      },
      "execution_count": null,
      "outputs": [
        {
          "output_type": "execute_result",
          "data": {
            "text/plain": [
              "LinearRegressionModel()"
            ]
          },
          "metadata": {},
          "execution_count": 13
        }
      ]
    },
    {
      "cell_type": "code",
      "source": [
        "# for index, params in enumerate(model.parameters()):\n",
        "#     print(index, params)\n",
        "list(model.parameters())"
      ],
      "metadata": {
        "colab": {
          "base_uri": "https://localhost:8080/"
        },
        "id": "-uQI6A-RVASx",
        "outputId": "6fc20b72-601d-41c1-a8bf-29ef0f863559"
      },
      "execution_count": null,
      "outputs": [
        {
          "output_type": "execute_result",
          "data": {
            "text/plain": [
              "[Parameter containing:\n",
              " tensor([0.3367], requires_grad=True),\n",
              " Parameter containing:\n",
              " tensor([0.1288], requires_grad=True)]"
            ]
          },
          "metadata": {},
          "execution_count": 14
        }
      ]
    },
    {
      "cell_type": "code",
      "source": [
        "with torch.inference_mode():                ## Shuold be requires_grad=False, but giving requires_grad=True???\n",
        "    print(list(model.parameters()))"
      ],
      "metadata": {
        "colab": {
          "base_uri": "https://localhost:8080/"
        },
        "id": "e49Y4i6MMZ6a",
        "outputId": "394cc616-a8d1-4fd3-e67b-ad494a3cf9a5"
      },
      "execution_count": null,
      "outputs": [
        {
          "output_type": "stream",
          "name": "stdout",
          "text": [
            "[Parameter containing:\n",
            "tensor([0.3367], requires_grad=True), Parameter containing:\n",
            "tensor([0.1288], requires_grad=True)]\n"
          ]
        }
      ]
    },
    {
      "cell_type": "code",
      "source": [
        "with torch.no_grad():                ## Shuold be requires_grad=False, but giving requires_grad=True???\n",
        "    print(list(model.parameters()))"
      ],
      "metadata": {
        "colab": {
          "base_uri": "https://localhost:8080/"
        },
        "id": "fB1jBi7EMsKw",
        "outputId": "50f816df-1fa0-4c42-a445-a5be19468927"
      },
      "execution_count": null,
      "outputs": [
        {
          "output_type": "stream",
          "name": "stdout",
          "text": [
            "[Parameter containing:\n",
            "tensor([0.3367], requires_grad=True), Parameter containing:\n",
            "tensor([0.1288], requires_grad=True)]\n"
          ]
        }
      ]
    },
    {
      "cell_type": "code",
      "source": [
        "list(model.eval().parameters())         ## Shuold be requires_grad=False, but giving requires_grad=True???"
      ],
      "metadata": {
        "colab": {
          "base_uri": "https://localhost:8080/"
        },
        "id": "CNaOX2csM1jE",
        "outputId": "7ff5fab9-6f53-4186-9cd0-1fdb5fd87011"
      },
      "execution_count": null,
      "outputs": [
        {
          "output_type": "execute_result",
          "data": {
            "text/plain": [
              "[Parameter containing:\n",
              " tensor([0.3367], requires_grad=True),\n",
              " Parameter containing:\n",
              " tensor([0.1288], requires_grad=True)]"
            ]
          },
          "metadata": {},
          "execution_count": 17
        }
      ]
    },
    {
      "cell_type": "code",
      "source": [
        "## Getting the list of **Named Parameters**\n",
        "model.state_dict()          ## Names are the variable names set by us in __init__()"
      ],
      "metadata": {
        "colab": {
          "base_uri": "https://localhost:8080/"
        },
        "id": "4Swe1ErwWfJI",
        "outputId": "26224cb1-8e3a-4b1a-e792-1f191f1979ef"
      },
      "execution_count": null,
      "outputs": [
        {
          "output_type": "execute_result",
          "data": {
            "text/plain": [
              "OrderedDict([('weights', tensor([0.3367])), ('bias', tensor([0.1288]))])"
            ]
          },
          "metadata": {},
          "execution_count": 18
        }
      ]
    },
    {
      "cell_type": "markdown",
      "source": [
        "- Making predicions using the `torch.inference_mode()`\n",
        "- When we pass data to the model, it is going to run the data through the `forward()` method to make the predictions."
      ],
      "metadata": {
        "id": "iljy7YqsXIil"
      }
    },
    {
      "cell_type": "code",
      "source": [
        "with torch.no_grad():                       ## old way\n",
        "    y_preds = model(X_test)\n",
        "\n",
        "with torch.inference_mode():                ## replace troch.no_grad() with torch.inference_mode() context manager\n",
        "    y_preds = model(X_test)\n",
        "y_preds"
      ],
      "metadata": {
        "colab": {
          "base_uri": "https://localhost:8080/"
        },
        "id": "p1fN0ZAeW3eU",
        "outputId": "f4277091-e619-4869-91fe-a0b6d26d1ab1"
      },
      "execution_count": null,
      "outputs": [
        {
          "output_type": "execute_result",
          "data": {
            "text/plain": [
              "tensor([[0.3982],\n",
              "        [0.4049],\n",
              "        [0.4116],\n",
              "        [0.4184],\n",
              "        [0.4251],\n",
              "        [0.4318],\n",
              "        [0.4386],\n",
              "        [0.4453],\n",
              "        [0.4520],\n",
              "        [0.4588]])"
            ]
          },
          "metadata": {},
          "execution_count": 19
        }
      ]
    },
    {
      "cell_type": "code",
      "source": [
        "plot_prediction(predictions=y_preds)"
      ],
      "metadata": {
        "colab": {
          "base_uri": "https://localhost:8080/",
          "height": 599
        },
        "id": "lf74U3vBZCpK",
        "outputId": "8d3b56c0-57e5-4093-92db-fefa7dc7715e"
      },
      "execution_count": null,
      "outputs": [
        {
          "output_type": "display_data",
          "data": {
            "text/plain": [
              "<Figure size 1000x700 with 1 Axes>"
            ],
            "image/png": "[encoded data removed]"
          },
          "metadata": {}
        }
      ]
    },
    {
      "cell_type": "markdown",
      "source": [
        "## Loss Function and Optimizer"
      ],
      "metadata": {
        "id": "ITSCv8VIGkQs"
      }
    },
    {
      "cell_type": "code",
      "source": [
        "## Set up the loss function\n",
        "loss_fn = nn.L1Loss()\n",
        "loss_fn"
      ],
      "metadata": {
        "colab": {
          "base_uri": "https://localhost:8080/"
        },
        "id": "m1fz_zFGGavt",
        "outputId": "35acf236-cd15-42b0-a805-aee7d3d5cfa5"
      },
      "execution_count": null,
      "outputs": [
        {
          "output_type": "execute_result",
          "data": {
            "text/plain": [
              "L1Loss()"
            ]
          },
          "metadata": {},
          "execution_count": 21
        }
      ]
    },
    {
      "cell_type": "code",
      "source": [
        "## Setting up the optimizer\n",
        "optimizer = torch.optim.SGD(model.parameters(), lr=0.01)\n",
        "optimizer"
      ],
      "metadata": {
        "colab": {
          "base_uri": "https://localhost:8080/"
        },
        "id": "1WWjIJB4HOya",
        "outputId": "cd22dd73-60f6-4c0c-f618-8fd57430959c"
      },
      "execution_count": null,
      "outputs": [
        {
          "output_type": "execute_result",
          "data": {
            "text/plain": [
              "SGD (\n",
              "Parameter Group 0\n",
              "    dampening: 0\n",
              "    differentiable: False\n",
              "    foreach: None\n",
              "    fused: None\n",
              "    lr: 0.01\n",
              "    maximize: False\n",
              "    momentum: 0\n",
              "    nesterov: False\n",
              "    weight_decay: 0\n",
              ")"
            ]
          },
          "metadata": {},
          "execution_count": 22
        }
      ]
    },
    {
      "cell_type": "markdown",
      "source": [
        "## Building a Training Loop and Testing Loop in PyTorch\n",
        "1. Loop through the training data\n",
        "2.1 Set the model to training mode, train model sets the model parameters attribute \"requires_grad\" = True\n",
        "2. Run the inputs through the forward pass, get some prediction\n",
        "3. Calculate a the loss\n",
        "4. Optimizer.zero_grad - set the previous gradients to zero\n",
        "5. Loss backward (Back-propagation): Run back-propagation. Move backwards through the network to calculate the gradients of each parameter w.r.t the loss.\n",
        "6. optimizer step (Gradient Descent): Update the parameter value to minimize the loss.\n"
      ],
      "metadata": {
        "id": "WJUNmu_6ISki"
      }
    },
    {
      "cell_type": "code",
      "source": [
        "epochs = 201 # 161"
      ],
      "metadata": {
        "id": "FPxohx8GLJka"
      },
      "execution_count": null,
      "outputs": []
    },
    {
      "cell_type": "code",
      "source": [
        "torch.manual_seed(42)\n",
        "\n",
        "# Experiment Tracking\n",
        "epoch_count = list()\n",
        "train_loss_values = list()\n",
        "test_loss_values = list()\n",
        "\n",
        "# Loop though the training data, epoch number of times\n",
        "for epoch in range(epochs):\n",
        "\n",
        "    # :::::::::: MODEL TRAINING ::::::::::\n",
        "    # Set the model to train mode\n",
        "    model.train()\n",
        "\n",
        "    # Running the forward pass\n",
        "    y_preds_train = model(X_train)\n",
        "\n",
        "    # Calculate the loss\n",
        "    train_loss = loss_fn(y_preds_train, y_train)\n",
        "\n",
        "    # Set the previous gradients to zero\n",
        "    optimizer.zero_grad()\n",
        "\n",
        "    # Back Propagation: Calculates the gradients\n",
        "    train_loss.backward()\n",
        "\n",
        "    # Gradient Descent: Parameter update\n",
        "    optimizer.step()\n",
        "\n",
        "    # :::::::::: MODEL EVALUATION ::::::::::\n",
        "    model.eval()                        ## Turns off settings like dropout, batch norm, etc.\n",
        "    with torch.inference_mode():        ## Turns off required_grad, gradient tracking.\n",
        "        # Run the forward pass\n",
        "        y_preds_test = model(X_test)\n",
        "\n",
        "        # Calculate the loss\n",
        "        test_loss = loss_fn(y_preds_test, y_test)\n",
        "\n",
        "    if epoch % 20 == 0:\n",
        "        epoch_count.append(epoch)\n",
        "        train_loss_values.append(train_loss)\n",
        "        test_loss_values.append(test_loss)\n",
        "        print(f\"Epoch #: {epoch} | MAE Train Loss: {train_loss} | MAE Test Loss: {test_loss}\")\n",
        "        print(model.state_dict(), \"\\n\")"
      ],
      "metadata": {
        "id": "WdsF5yQnIVv2",
        "colab": {
          "base_uri": "https://localhost:8080/"
        },
        "outputId": "225f1a25-9801-4dad-8a0f-890cb53ce63f"
      },
      "execution_count": null,
      "outputs": [
        {
          "output_type": "stream",
          "name": "stdout",
          "text": [
            "Epoch #: 0 | MAE Train Loss: 0.31288138031959534 | MAE Test Loss: 0.48106518387794495\n",
            "OrderedDict([('weights', tensor([0.3406])), ('bias', tensor([0.1388]))]) \n",
            "\n",
            "Epoch #: 20 | MAE Train Loss: 0.08908725529909134 | MAE Test Loss: 0.21729660034179688\n",
            "OrderedDict([('weights', tensor([0.4184])), ('bias', tensor([0.3333]))]) \n",
            "\n",
            "Epoch #: 40 | MAE Train Loss: 0.04543796554207802 | MAE Test Loss: 0.11360953003168106\n",
            "OrderedDict([('weights', tensor([0.4748])), ('bias', tensor([0.3868]))]) \n",
            "\n",
            "Epoch #: 60 | MAE Train Loss: 0.03818932920694351 | MAE Test Loss: 0.08886633068323135\n",
            "OrderedDict([('weights', tensor([0.5116])), ('bias', tensor([0.3788]))]) \n",
            "\n",
            "Epoch #: 80 | MAE Train Loss: 0.03132382780313492 | MAE Test Loss: 0.07232122868299484\n",
            "OrderedDict([('weights', tensor([0.5459])), ('bias', tensor([0.3648]))]) \n",
            "\n",
            "Epoch #: 100 | MAE Train Loss: 0.024458957836031914 | MAE Test Loss: 0.05646304413676262\n",
            "OrderedDict([('weights', tensor([0.5800])), ('bias', tensor([0.3503]))]) \n",
            "\n",
            "Epoch #: 120 | MAE Train Loss: 0.01758546568453312 | MAE Test Loss: 0.04060482233762741\n",
            "OrderedDict([('weights', tensor([0.6141])), ('bias', tensor([0.3358]))]) \n",
            "\n",
            "Epoch #: 140 | MAE Train Loss: 0.010716589167714119 | MAE Test Loss: 0.024059748277068138\n",
            "OrderedDict([('weights', tensor([0.6485])), ('bias', tensor([0.3218]))]) \n",
            "\n",
            "Epoch #: 160 | MAE Train Loss: 0.0038517764769494534 | MAE Test Loss: 0.008201557211577892\n",
            "OrderedDict([('weights', tensor([0.6826])), ('bias', tensor([0.3073]))]) \n",
            "\n",
            "Epoch #: 180 | MAE Train Loss: 0.008932482451200485 | MAE Test Loss: 0.005023092031478882\n",
            "OrderedDict([('weights', tensor([0.6951])), ('bias', tensor([0.2993]))]) \n",
            "\n",
            "Epoch #: 200 | MAE Train Loss: 0.008932482451200485 | MAE Test Loss: 0.005023092031478882\n",
            "OrderedDict([('weights', tensor([0.6951])), ('bias', tensor([0.2993]))]) \n",
            "\n"
          ]
        }
      ]
    },
    {
      "cell_type": "code",
      "source": [
        "# Original values, set by us\n",
        "weight, bias"
      ],
      "metadata": {
        "colab": {
          "base_uri": "https://localhost:8080/"
        },
        "id": "Ke93urURzgrl",
        "outputId": "89cdc108-d4c2-4aee-8d8e-f5ae3a87f590"
      },
      "execution_count": null,
      "outputs": [
        {
          "output_type": "execute_result",
          "data": {
            "text/plain": [
              "(0.7, 0.3)"
            ]
          },
          "metadata": {},
          "execution_count": 25
        }
      ]
    },
    {
      "cell_type": "code",
      "source": [
        "with torch.inference_mode():\n",
        "    y_preds_test = model(X_test)\n",
        "    plot_prediction(predictions=y_preds_test)"
      ],
      "metadata": {
        "colab": {
          "base_uri": "https://localhost:8080/",
          "height": 599
        },
        "id": "qpYCcf8K0Hyh",
        "outputId": "033fc944-d357-42a0-cf71-fd53e6589b92"
      },
      "execution_count": null,
      "outputs": [
        {
          "output_type": "display_data",
          "data": {
            "text/plain": [
              "<Figure size 1000x700 with 1 Axes>"
            ],
            "image/png": "[encoded data removed]"
          },
          "metadata": {}
        }
      ]
    },
    {
      "cell_type": "markdown",
      "source": [
        "## Experiment Tracking through Visualization"
      ],
      "metadata": {
        "id": "MGgFhTiy72_l"
      }
    },
    {
      "cell_type": "code",
      "source": [
        "with torch.inference_mode():\n",
        "    plt.plot(epoch_count, train_loss_values, label=\"Training Loss\")\n",
        "    plt.plot(epoch_count, test_loss_values, label=\"Testing Loss\")\n",
        "    plt.title(\"Training and Testing Loss Curves\")\n",
        "    plt.xlabel(\"Epochs\")\n",
        "    plt.ylabel(\"Loss\")\n",
        "    plt.legend();"
      ],
      "metadata": {
        "colab": {
          "base_uri": "https://localhost:8080/",
          "height": 472
        },
        "id": "lZ0zXX8j5Krv",
        "outputId": "a7297e53-9bb3-48e7-b1b8-cc8df0874c00"
      },
      "execution_count": null,
      "outputs": [
        {
          "output_type": "display_data",
          "data": {
            "text/plain": [
              "<Figure size 640x480 with 1 Axes>"
            ],
            "image/png": "[encoded data removed]"
          },
          "metadata": {}
        }
      ]
    },
    {
      "cell_type": "markdown",
      "source": [
        "## Saving a Model in PyTorch\n",
        "\n",
        "- `torch.save()`\t- Saves a serialized object to disk using Python's pickle utility. Models, tensors and various other Python objects like dictionaries can be saved using torch.save.\n",
        "- `torch.load()` - Uses pickle's unpickling features to deserialize and load pickled Python object files (like models, tensors or dictionaries) into memory. You can also set which device to load the object to (CPU, GPU etc).\n",
        "- `torch.nn.Module.load_state_dict()` - Loads a model's parameter dictionary (model.state_dict()) using a saved state_dict() object.\n",
        "\n",
        "---\n",
        "What is the difference between model.state_dict() and optimizer.state_dict()??\n",
        "---"
      ],
      "metadata": {
        "id": "UFMfgGbL-Nd8"
      }
    },
    {
      "cell_type": "code",
      "source": [
        "from pathlib import Path"
      ],
      "metadata": {
        "id": "0faCK41a_1j7"
      },
      "execution_count": null,
      "outputs": []
    },
    {
      "cell_type": "markdown",
      "source": [
        "1. Create a model directory\n",
        "2. Create a model save path\n",
        "3. Save the model state_dict to the model path"
      ],
      "metadata": {
        "id": "88CUcOl4_-M-"
      }
    },
    {
      "cell_type": "code",
      "source": [
        "# Create Model Directory\n",
        "MODEL_PATH = Path(\"models\")\n",
        "MODEL_PATH.mkdir(parents=True, exist_ok=True)\n",
        "\n",
        "# Create model save path\n",
        "MODEL_NAME = \"01_pytorch_workflow_model.pth\"\n",
        "MODEL_SAVE_PATH = MODEL_PATH / MODEL_NAME\n",
        "print(f\"Saving the model to path: {MODEL_SAVE_PATH}\")\n",
        "\n",
        "# Save the model\n",
        "torch.save(obj=model.state_dict(),\n",
        "           f=MODEL_SAVE_PATH)"
      ],
      "metadata": {
        "colab": {
          "base_uri": "https://localhost:8080/"
        },
        "id": "lDX9jdJo72hE",
        "outputId": "b24106ff-8780-402a-9563-0eb0ac23b404"
      },
      "execution_count": null,
      "outputs": [
        {
          "output_type": "stream",
          "name": "stdout",
          "text": [
            "Saving the model to path: models/01_pytorch_workflow_model.pth\n"
          ]
        }
      ]
    },
    {
      "cell_type": "code",
      "source": [
        "!ls -l models"
      ],
      "metadata": {
        "colab": {
          "base_uri": "https://localhost:8080/"
        },
        "id": "bvzdXfBy_hot",
        "outputId": "317d2ae0-6717-47a1-d20d-02cd22494eb9"
      },
      "execution_count": null,
      "outputs": [
        {
          "output_type": "stream",
          "name": "stdout",
          "text": [
            "total 4\n",
            "-rw-r--r-- 1 root root 1668 Jul 26 09:27 01_pytorch_workflow_model.pth\n"
          ]
        }
      ]
    },
    {
      "cell_type": "markdown",
      "source": [
        "## Loading a Saved PyTorch Model\n",
        "\n",
        "- Since we save the state_dict model the model instead of saving the entire model, we will have to create a new instance of the model class, and then load the previously saved state_dict.\n"
      ],
      "metadata": {
        "id": "SNukLPtDDb-y"
      }
    },
    {
      "cell_type": "code",
      "source": [
        "loaded_model = LinearRegressionModel()\n",
        "loaded_model.state_dict()           ## Here the model parameters will be set to some random values"
      ],
      "metadata": {
        "colab": {
          "base_uri": "https://localhost:8080/"
        },
        "id": "3B-LuGzWDe7K",
        "outputId": "8905208a-c8d3-4399-fe98-18d412aba919"
      },
      "execution_count": null,
      "outputs": [
        {
          "output_type": "execute_result",
          "data": {
            "text/plain": [
              "OrderedDict([('weights', tensor([0.3367])), ('bias', tensor([0.1288]))])"
            ]
          },
          "metadata": {},
          "execution_count": 31
        }
      ]
    },
    {
      "cell_type": "code",
      "source": [
        "# To update the model parameters, we have to load the saved state_dict.\n",
        "# LinearRegressionModel Class is a sub-class of the torch.nn.Module class, so we can call the load_State_dict function on it directly.\n",
        "loaded_model.load_state_dict(torch.load(f=MODEL_SAVE_PATH))\n",
        "loaded_model.state_dict()"
      ],
      "metadata": {
        "colab": {
          "base_uri": "https://localhost:8080/"
        },
        "id": "txEWGFTiFaVX",
        "outputId": "2fb26536-3728-433c-f8d3-9f99137163a1"
      },
      "execution_count": null,
      "outputs": [
        {
          "output_type": "execute_result",
          "data": {
            "text/plain": [
              "OrderedDict([('weights', tensor([0.6951])), ('bias', tensor([0.2993]))])"
            ]
          },
          "metadata": {},
          "execution_count": 32
        }
      ]
    },
    {
      "cell_type": "markdown",
      "source": [
        "## Making predictions with the loaded model"
      ],
      "metadata": {
        "id": "9w76I-tZGM4B"
      }
    },
    {
      "cell_type": "code",
      "source": [
        "loaded_model.eval()\n",
        "with torch.inference_mode():\n",
        "    y_preds_test_loaded = loaded_model(X_test)\n",
        "y_preds_test_loaded"
      ],
      "metadata": {
        "colab": {
          "base_uri": "https://localhost:8080/"
        },
        "id": "Xz6JVozXGP4H",
        "outputId": "d85b9142-3169-4c02-8d5e-311575cba935"
      },
      "execution_count": null,
      "outputs": [
        {
          "output_type": "execute_result",
          "data": {
            "text/plain": [
              "tensor([[0.8554],\n",
              "        [0.8693],\n",
              "        [0.8832],\n",
              "        [0.8971],\n",
              "        [0.9110],\n",
              "        [0.9249],\n",
              "        [0.9388],\n",
              "        [0.9527],\n",
              "        [0.9666],\n",
              "        [0.9805]])"
            ]
          },
          "metadata": {},
          "execution_count": 33
        }
      ]
    },
    {
      "cell_type": "code",
      "source": [
        "y_preds_test == y_preds_test_loaded     ## Comparing the preds of the original and the loaded models."
      ],
      "metadata": {
        "colab": {
          "base_uri": "https://localhost:8080/"
        },
        "id": "iH-Xc1WpGj_v",
        "outputId": "d29ec827-91b4-4d70-ac7b-515924834caf"
      },
      "execution_count": null,
      "outputs": [
        {
          "output_type": "execute_result",
          "data": {
            "text/plain": [
              "tensor([[True],\n",
              "        [True],\n",
              "        [True],\n",
              "        [True],\n",
              "        [True],\n",
              "        [True],\n",
              "        [True],\n",
              "        [True],\n",
              "        [True],\n",
              "        [True]])"
            ]
          },
          "metadata": {},
          "execution_count": 34
        }
      ]
    },
    {
      "cell_type": "markdown",
      "source": [
        "# Putting it all together"
      ],
      "metadata": {
        "id": "kSFcfrrLHSvl"
      }
    },
    {
      "cell_type": "code",
      "source": [
        "import torch\n",
        "from torch import nn\n",
        "from pathlib import Path\n",
        "import matplotlib.pyplot as plt\n",
        "\n",
        "torch.__version__"
      ],
      "metadata": {
        "colab": {
          "base_uri": "https://localhost:8080/",
          "height": 35
        },
        "id": "fKaVAO-VHVO5",
        "outputId": "f9f150c1-c6cc-4dd9-990d-4ae57f956b09"
      },
      "execution_count": null,
      "outputs": [
        {
          "output_type": "execute_result",
          "data": {
            "text/plain": [
              "'2.3.1+cu121'"
            ],
            "application/vnd.google.colaboratory.intrinsic+json": {
              "type": "string"
            }
          },
          "metadata": {},
          "execution_count": 35
        }
      ]
    },
    {
      "cell_type": "code",
      "source": [
        "device = \"cuda\" if torch.cuda.is_available() else \"cpu\"\n",
        "print(f\"Using Device: {device}\")"
      ],
      "metadata": {
        "colab": {
          "base_uri": "https://localhost:8080/"
        },
        "id": "a4tXCX1qKeoI",
        "outputId": "da7f9ec8-3ac1-41fd-f47c-189ac1d3fccd"
      },
      "execution_count": null,
      "outputs": [
        {
          "output_type": "stream",
          "name": "stdout",
          "text": [
            "Using Device: cuda\n"
          ]
        }
      ]
    },
    {
      "cell_type": "markdown",
      "source": [
        "### Data Creating, Train/Test Split"
      ],
      "metadata": {
        "id": "CNn5E880ItUy"
      }
    },
    {
      "cell_type": "code",
      "source": [
        "weights = 0.7\n",
        "bias = 0.3\n",
        "\n",
        "X = torch.arange(start=0, end=1, step=0.02).unsqueeze(1)        ## [50] --> [50, 1]\n",
        "y = weights * X + bias"
      ],
      "metadata": {
        "id": "h8_VErAWIsyu"
      },
      "execution_count": null,
      "outputs": []
    },
    {
      "cell_type": "code",
      "source": [
        "train_index = int(0.8 * len(X))\n",
        "X_train, y_train = X[:train_index], y[:train_index]\n",
        "X_test, y_test = X[train_index:], y[train_index:]\n",
        "\n",
        "len(X_train), len(y_train), len(X_test), len(y_test)"
      ],
      "metadata": {
        "colab": {
          "base_uri": "https://localhost:8080/"
        },
        "id": "9qs5UPejJb7W",
        "outputId": "92f4db00-af3c-49c3-dd59-75817dcc8227"
      },
      "execution_count": null,
      "outputs": [
        {
          "output_type": "execute_result",
          "data": {
            "text/plain": [
              "(40, 40, 10, 10)"
            ]
          },
          "metadata": {},
          "execution_count": 38
        }
      ]
    },
    {
      "cell_type": "code",
      "source": [
        "def plot_prediction(\n",
        "        train_data=X_train,\n",
        "        train_labels=y_train,\n",
        "        test_data=X_test,\n",
        "        test_labels=y_test,\n",
        "        predictions=None):\n",
        "    \"\"\"\n",
        "    Plots trainind data, test data and compares predictions\n",
        "    \"\"\"\n",
        "    plt.figure(figsize=(10, 7))\n",
        "\n",
        "    train_data = train_data.cpu()\n",
        "    train_labels = train_labels.cpu()\n",
        "    test_data = test_data.cpu()\n",
        "    test_labels = test_labels.cpu()\n",
        "\n",
        "    plt.scatter(train_data, train_labels, c='b', s=4, label=\"Training Data\")\n",
        "    plt.scatter(test_data, test_labels, c='g', s=4, label=\"Testing Data\")\n",
        "\n",
        "    if predictions is not None:\n",
        "        # predictions.cpu()\n",
        "        predictions = predictions.cpu().numpy()\n",
        "        plt.scatter(test_data, predictions, c='r', s=4, label=\"Predictions\")\n",
        "\n",
        "    plt.legend(prop={\"size\": 14})"
      ],
      "metadata": {
        "id": "s71RXCdPS0wm"
      },
      "execution_count": null,
      "outputs": []
    },
    {
      "cell_type": "code",
      "source": [
        "plot_prediction()"
      ],
      "metadata": {
        "colab": {
          "base_uri": "https://localhost:8080/",
          "height": 599
        },
        "id": "SO6CV8hnKCRB",
        "outputId": "88114de7-b95f-4203-d4e5-5ed77d3c6dc9"
      },
      "execution_count": null,
      "outputs": [
        {
          "output_type": "display_data",
          "data": {
            "text/plain": [
              "<Figure size 1000x700 with 1 Axes>"
            ],
            "image/png": "[encoded data removed]"
          },
          "metadata": {}
        }
      ]
    },
    {
      "cell_type": "markdown",
      "source": [
        "### Building the LinearRegression Model\n",
        "\n",
        "The Linear Layer of PyTorch can also be called\n",
        "- Dense Layer (in TensorFlow)\n",
        "- Probing Layer\n",
        "- Fully Connected Layer\n",
        "- Liner Transform"
      ],
      "metadata": {
        "id": "PMIyf9eXLKt2"
      }
    },
    {
      "cell_type": "code",
      "source": [
        "class LinearRegressionModelV2(nn.Module):\n",
        "    def __init__(self):\n",
        "        super().__init__()\n",
        "        # Here we will use nn.Linaer for creating model parameters insteading of careting the parameters manually\n",
        "        self.linear_layer = nn.Linear(in_features=1, out_features=1)\n",
        "\n",
        "    def forward(self, x: torch.Tensor) -> torch.Tensor:\n",
        "         return self.linear_layer(x)"
      ],
      "metadata": {
        "id": "qGk9vOcGLJ7Y"
      },
      "execution_count": null,
      "outputs": []
    },
    {
      "cell_type": "code",
      "source": [
        "torch.manual_seed(42)\n",
        "\n",
        "model_v2 = LinearRegressionModelV2()\n",
        "model_v2"
      ],
      "metadata": {
        "colab": {
          "base_uri": "https://localhost:8080/"
        },
        "id": "MuTRq6H2NJvT",
        "outputId": "3ff9ac6a-5a07-4ee3-9043-029c38661326"
      },
      "execution_count": null,
      "outputs": [
        {
          "output_type": "execute_result",
          "data": {
            "text/plain": [
              "LinearRegressionModelV2(\n",
              "  (linear_layer): Linear(in_features=1, out_features=1, bias=True)\n",
              ")"
            ]
          },
          "metadata": {},
          "execution_count": 42
        }
      ]
    },
    {
      "cell_type": "code",
      "source": [
        "model_v2.state_dict()"
      ],
      "metadata": {
        "colab": {
          "base_uri": "https://localhost:8080/"
        },
        "id": "ymPnqJQFNWXo",
        "outputId": "35815b39-f57d-4018-fa9a-2d95087bb8ec"
      },
      "execution_count": null,
      "outputs": [
        {
          "output_type": "execute_result",
          "data": {
            "text/plain": [
              "OrderedDict([('linear_layer.weight', tensor([[0.7645]])),\n",
              "             ('linear_layer.bias', tensor([0.8300]))])"
            ]
          },
          "metadata": {},
          "execution_count": 43
        }
      ]
    },
    {
      "cell_type": "code",
      "source": [
        "## To check which device the model is on\n",
        "next(model_v2.parameters()).device            ## Getting one parameter tensor from the model and checking the device of that"
      ],
      "metadata": {
        "colab": {
          "base_uri": "https://localhost:8080/"
        },
        "id": "HBPCWYY4OnGI",
        "outputId": "3858e34c-50cb-46f0-b914-3802f9a72b71"
      },
      "execution_count": null,
      "outputs": [
        {
          "output_type": "execute_result",
          "data": {
            "text/plain": [
              "device(type='cpu')"
            ]
          },
          "metadata": {},
          "execution_count": 44
        }
      ]
    },
    {
      "cell_type": "code",
      "source": [
        "### Set the model to use the target device\n",
        "model_v2.to(device)\n",
        "next(model_v2.parameters()).device"
      ],
      "metadata": {
        "colab": {
          "base_uri": "https://localhost:8080/"
        },
        "id": "qPcw-QDIPk4a",
        "outputId": "e0e6ce9b-e6bd-4530-d6c1-38df8c287553"
      },
      "execution_count": null,
      "outputs": [
        {
          "output_type": "execute_result",
          "data": {
            "text/plain": [
              "device(type='cuda', index=0)"
            ]
          },
          "metadata": {},
          "execution_count": 45
        }
      ]
    },
    {
      "cell_type": "markdown",
      "source": [
        "### Training the model"
      ],
      "metadata": {
        "id": "nU9XU1JyN4K5"
      }
    },
    {
      "cell_type": "code",
      "source": [
        "loss_v2 = nn.L1Loss()           ## MAE Loss\n",
        "loss_v2"
      ],
      "metadata": {
        "colab": {
          "base_uri": "https://localhost:8080/"
        },
        "id": "_F6e1rUbN6fi",
        "outputId": "c6d20b6c-17ba-4db2-e3a9-15451a3a46f2"
      },
      "execution_count": null,
      "outputs": [
        {
          "output_type": "execute_result",
          "data": {
            "text/plain": [
              "L1Loss()"
            ]
          },
          "metadata": {},
          "execution_count": 46
        }
      ]
    },
    {
      "cell_type": "code",
      "source": [
        "optimizer_v2 = torch.optim.SGD(params=model_v2.parameters(),\n",
        "                               lr=0.01)\n",
        "optimizer_v2"
      ],
      "metadata": {
        "colab": {
          "base_uri": "https://localhost:8080/"
        },
        "id": "qojg5GaLOOTk",
        "outputId": "6b7d6907-a525-409c-8f03-a667c12e10bb"
      },
      "execution_count": null,
      "outputs": [
        {
          "output_type": "execute_result",
          "data": {
            "text/plain": [
              "SGD (\n",
              "Parameter Group 0\n",
              "    dampening: 0\n",
              "    differentiable: False\n",
              "    foreach: None\n",
              "    fused: None\n",
              "    lr: 0.01\n",
              "    maximize: False\n",
              "    momentum: 0\n",
              "    nesterov: False\n",
              "    weight_decay: 0\n",
              ")"
            ]
          },
          "metadata": {},
          "execution_count": 47
        }
      ]
    },
    {
      "cell_type": "code",
      "source": [
        "torch.manual_seed(42)\n",
        "\n",
        "def train(model, device, X_train, y_train, X_test, y_test, epochs=201):\n",
        "\n",
        "    epoch_count = list()\n",
        "    train_loss_values = list()\n",
        "    test_loss_values = list()\n",
        "\n",
        "    # Putting everything on the target device\n",
        "    model_v2.to(device)\n",
        "    X_train = X_train.to(device)\n",
        "    y_train = y_train.to(device)\n",
        "    X_test = X_test.to(device)\n",
        "    y_test = y_test.to(device)\n",
        "\n",
        "    # Running the training loop\n",
        "    for epoch in range(epochs):\n",
        "        model.train()\n",
        "        train_preds = model(X_train)\n",
        "        train_loss = loss_v2(train_preds, y_train)\n",
        "        optimizer_v2.zero_grad()\n",
        "        train_loss.backward()\n",
        "        optimizer_v2.step()\n",
        "\n",
        "        model.eval()\n",
        "        with torch.inference_mode():\n",
        "            test_preds = model(X_test)\n",
        "            test_loss = loss_v2(test_preds, y_test)\n",
        "\n",
        "        if epoch % 20 == 0:\n",
        "            epoch_count.append(epoch)\n",
        "            train_loss_values.append(train_loss)\n",
        "            test_loss_values.append(test_loss)\n",
        "            print(f\"Epoch #: {epoch} | MAE Train Loss: {train_loss} | MAE Test Loss: {test_loss}\")\n",
        "            print(model.state_dict(), \"\\n\")\n",
        "\n",
        "    return model, epoch_count, train_loss_values, test_loss_values"
      ],
      "metadata": {
        "id": "_dPYCWxZQCkz"
      },
      "execution_count": null,
      "outputs": []
    },
    {
      "cell_type": "code",
      "source": [
        "model, epoch_count, train_loss_values, test_loss_values = train(model_v2, device, X_train, y_train, X_test, y_test, epochs=200)"
      ],
      "metadata": {
        "colab": {
          "base_uri": "https://localhost:8080/"
        },
        "id": "OBy7yYOqSY95",
        "outputId": "0112ab5a-70bc-4788-8a8f-ba080042ae5b"
      },
      "execution_count": null,
      "outputs": [
        {
          "output_type": "stream",
          "name": "stdout",
          "text": [
            "Epoch #: 0 | MAE Train Loss: 0.5551779866218567 | MAE Test Loss: 0.5739762187004089\n",
            "OrderedDict([('linear_layer.weight', tensor([[0.7606]], device='cuda:0')), ('linear_layer.bias', tensor([0.8200], device='cuda:0'))]) \n",
            "\n",
            "Epoch #: 20 | MAE Train Loss: 0.3247582018375397 | MAE Test Loss: 0.30455657839775085\n",
            "OrderedDict([('linear_layer.weight', tensor([[0.6826]], device='cuda:0')), ('linear_layer.bias', tensor([0.6200], device='cuda:0'))]) \n",
            "\n",
            "Epoch #: 40 | MAE Train Loss: 0.09433845430612564 | MAE Test Loss: 0.03513690456748009\n",
            "OrderedDict([('linear_layer.weight', tensor([[0.6046]], device='cuda:0')), ('linear_layer.bias', tensor([0.4200], device='cuda:0'))]) \n",
            "\n",
            "Epoch #: 60 | MAE Train Loss: 0.019956795498728752 | MAE Test Loss: 0.045803118497133255\n",
            "OrderedDict([('linear_layer.weight', tensor([[0.6025]], device='cuda:0')), ('linear_layer.bias', tensor([0.3410], device='cuda:0'))]) \n",
            "\n",
            "Epoch #: 80 | MAE Train Loss: 0.013089174404740334 | MAE Test Loss: 0.02994490973651409\n",
            "OrderedDict([('linear_layer.weight', tensor([[0.6366]], device='cuda:0')), ('linear_layer.bias', tensor([0.3265], device='cuda:0'))]) \n",
            "\n",
            "Epoch #: 100 | MAE Train Loss: 0.006215683650225401 | MAE Test Loss: 0.014086711220443249\n",
            "OrderedDict([('linear_layer.weight', tensor([[0.6707]], device='cuda:0')), ('linear_layer.bias', tensor([0.3120], device='cuda:0'))]) \n",
            "\n",
            "Epoch #: 120 | MAE Train Loss: 0.0012645035749301314 | MAE Test Loss: 0.013801801018416882\n",
            "OrderedDict([('linear_layer.weight', tensor([[0.6929]], device='cuda:0')), ('linear_layer.bias', tensor([0.2925], device='cuda:0'))]) \n",
            "\n",
            "Epoch #: 140 | MAE Train Loss: 0.0012645035749301314 | MAE Test Loss: 0.013801801018416882\n",
            "OrderedDict([('linear_layer.weight', tensor([[0.6929]], device='cuda:0')), ('linear_layer.bias', tensor([0.2925], device='cuda:0'))]) \n",
            "\n",
            "Epoch #: 160 | MAE Train Loss: 0.0012645035749301314 | MAE Test Loss: 0.013801801018416882\n",
            "OrderedDict([('linear_layer.weight', tensor([[0.6929]], device='cuda:0')), ('linear_layer.bias', tensor([0.2925], device='cuda:0'))]) \n",
            "\n",
            "Epoch #: 180 | MAE Train Loss: 0.0012645035749301314 | MAE Test Loss: 0.013801801018416882\n",
            "OrderedDict([('linear_layer.weight', tensor([[0.6929]], device='cuda:0')), ('linear_layer.bias', tensor([0.2925], device='cuda:0'))]) \n",
            "\n"
          ]
        }
      ]
    },
    {
      "cell_type": "code",
      "source": [
        "import numpy as np\n",
        "\n",
        "with torch.inference_mode():\n",
        "    plt.plot(epoch_count, torch.tensor(train_loss_values).numpy(), label=\"Training Loss\")           ## Converting the list to numpy moved the data to cpu\n",
        "    plt.plot(epoch_count, torch.tensor(test_loss_values).numpy(), label=\"Testing Loss\")\n",
        "    plt.title(\"Training and Testing Loss Curves\")\n",
        "    plt.xlabel(\"Epochs\")\n",
        "    plt.ylabel(\"Loss\")\n",
        "    plt.legend();"
      ],
      "metadata": {
        "colab": {
          "base_uri": "https://localhost:8080/",
          "height": 472
        },
        "id": "srj0J9KnShOn",
        "outputId": "22a35aa1-a0e5-425a-8be5-ab7bb07d729a"
      },
      "execution_count": null,
      "outputs": [
        {
          "output_type": "display_data",
          "data": {
            "text/plain": [
              "<Figure size 640x480 with 1 Axes>"
            ],
            "image/png": "[encoded data removed]"
          },
          "metadata": {}
        }
      ]
    },
    {
      "cell_type": "code",
      "source": [
        "X_test.device"
      ],
      "metadata": {
        "colab": {
          "base_uri": "https://localhost:8080/"
        },
        "id": "A0dPHwM7Yhk7",
        "outputId": "e0cbbb86-ec19-4a17-f230-1ea77e2d1761"
      },
      "execution_count": null,
      "outputs": [
        {
          "output_type": "execute_result",
          "data": {
            "text/plain": [
              "device(type='cpu')"
            ]
          },
          "metadata": {},
          "execution_count": 59
        }
      ]
    },
    {
      "cell_type": "code",
      "source": [
        "next(model.parameters()).device"
      ],
      "metadata": {
        "colab": {
          "base_uri": "https://localhost:8080/"
        },
        "id": "lrr7jgnKYkpv",
        "outputId": "3df45e05-b059-4e67-8e60-6f6229289032"
      },
      "execution_count": null,
      "outputs": [
        {
          "output_type": "execute_result",
          "data": {
            "text/plain": [
              "device(type='cuda', index=0)"
            ]
          },
          "metadata": {},
          "execution_count": 60
        }
      ]
    },
    {
      "cell_type": "code",
      "source": [
        "model.eval()\n",
        "with torch.inference_mode():\n",
        "    X_test = X_test.to(device)\n",
        "    test_preds_new = model(X_test)\n",
        "# plot_prediction()\n",
        "plot_prediction(predictions=test_preds_new)"
      ],
      "metadata": {
        "colab": {
          "base_uri": "https://localhost:8080/",
          "height": 599
        },
        "id": "fSDRVnqqS-Cv",
        "outputId": "fa3e3618-594c-4705-9cc8-945022f62e45"
      },
      "execution_count": null,
      "outputs": [
        {
          "output_type": "display_data",
          "data": {
            "text/plain": [
              "<Figure size 1000x700 with 1 Axes>"
            ],
            "image/png": "[encoded data removed]"
          },
          "metadata": {}
        }
      ]
    },
    {
      "cell_type": "markdown",
      "source": [
        "### Saving and Loading the Model"
      ],
      "metadata": {
        "id": "cfc2-ixAVEIH"
      }
    },
    {
      "cell_type": "code",
      "source": [
        "MODEL_PATH = Path(\"models\")\n",
        "MODEL_PATH.mkdir(parents=True, exist_ok=True)\n",
        "\n",
        "MODEL_NAME = \"01_pytorch_workflow_modelv2.pth\"      ## can use \"pth\" ot \"pt\"\n",
        "MODEL_SAVE_PATH = MODEL_PATH / MODEL_NAME\n",
        "\n",
        "print(f\"Saving the Model to path: {MODEL_SAVE_PATH}\")\n",
        "torch.save(obj=model_v2.state_dict(),\n",
        "           f=MODEL_SAVE_PATH)"
      ],
      "metadata": {
        "colab": {
          "base_uri": "https://localhost:8080/"
        },
        "id": "ff9eFLPLTaUb",
        "outputId": "53298031-e19a-4856-ff5a-45f5ed156cb7"
      },
      "execution_count": null,
      "outputs": [
        {
          "output_type": "stream",
          "name": "stdout",
          "text": [
            "Saving the Model to path: models/01_pytorch_workflow_modelv2.pth\n"
          ]
        }
      ]
    },
    {
      "cell_type": "code",
      "source": [
        "!ls -l models"
      ],
      "metadata": {
        "colab": {
          "base_uri": "https://localhost:8080/"
        },
        "id": "oQidlOdxWEea",
        "outputId": "01151dba-f662-4acc-f567-5741bd2a2203"
      },
      "execution_count": null,
      "outputs": [
        {
          "output_type": "stream",
          "name": "stdout",
          "text": [
            "total 8\n",
            "-rw-r--r-- 1 root root 1668 Jul 26 09:27 01_pytorch_workflow_model.pth\n",
            "-rw-r--r-- 1 root root 1744 Jul 26 09:40 01_pytorch_workflow_modelv2.pth\n"
          ]
        }
      ]
    },
    {
      "cell_type": "code",
      "source": [
        "## Loading the model\n",
        "loaded_model_v2 = LinearRegressionModelV2()\n",
        "loaded_model_v2.to(device)\n",
        "loaded_model_v2"
      ],
      "metadata": {
        "colab": {
          "base_uri": "https://localhost:8080/"
        },
        "id": "3Esms2IeWKf4",
        "outputId": "56cbb92e-efd1-46f9-e851-38e470ea21df"
      },
      "execution_count": null,
      "outputs": [
        {
          "output_type": "execute_result",
          "data": {
            "text/plain": [
              "LinearRegressionModelV2(\n",
              "  (linear_layer): Linear(in_features=1, out_features=1, bias=True)\n",
              ")"
            ]
          },
          "metadata": {},
          "execution_count": 82
        }
      ]
    },
    {
      "cell_type": "code",
      "source": [
        "next(loaded_model_v2.parameters()).device"
      ],
      "metadata": {
        "colab": {
          "base_uri": "https://localhost:8080/"
        },
        "id": "wjqjfWg1WtPG",
        "outputId": "830c13a7-eb89-4f77-e5e9-1eb0d46915ea"
      },
      "execution_count": null,
      "outputs": [
        {
          "output_type": "execute_result",
          "data": {
            "text/plain": [
              "device(type='cuda', index=0)"
            ]
          },
          "metadata": {},
          "execution_count": 83
        }
      ]
    },
    {
      "cell_type": "code",
      "source": [
        "loaded_model_v2.state_dict()"
      ],
      "metadata": {
        "colab": {
          "base_uri": "https://localhost:8080/"
        },
        "id": "fJjgiKfGWbbA",
        "outputId": "a71d9359-ef62-427e-a51e-e2d075e0e589"
      },
      "execution_count": null,
      "outputs": [
        {
          "output_type": "execute_result",
          "data": {
            "text/plain": [
              "OrderedDict([('linear_layer.weight', tensor([[0.7645]], device='cuda:0')),\n",
              "             ('linear_layer.bias', tensor([0.8300], device='cuda:0'))])"
            ]
          },
          "metadata": {},
          "execution_count": 84
        }
      ]
    },
    {
      "cell_type": "code",
      "source": [
        "loaded_model_v2.load_state_dict(torch.load(MODEL_SAVE_PATH))\n",
        "loaded_model_v2.state_dict()"
      ],
      "metadata": {
        "colab": {
          "base_uri": "https://localhost:8080/"
        },
        "id": "-4p02vrpWRsh",
        "outputId": "3b24afaa-4c08-432e-cd51-cc81942e4a3b"
      },
      "execution_count": null,
      "outputs": [
        {
          "output_type": "execute_result",
          "data": {
            "text/plain": [
              "OrderedDict([('linear_layer.weight', tensor([[0.6968]], device='cuda:0')),\n",
              "             ('linear_layer.bias', tensor([0.3025], device='cuda:0'))])"
            ]
          },
          "metadata": {},
          "execution_count": 85
        }
      ]
    },
    {
      "cell_type": "code",
      "source": [
        "## Evaluating the loaded model\n",
        "model.eval()\n",
        "with torch.inference_mode():\n",
        "    loaded_test_preds = loaded_model_v2(X_test)\n",
        "loaded_test_preds == test_preds_new"
      ],
      "metadata": {
        "colab": {
          "base_uri": "https://localhost:8080/"
        },
        "id": "ABLkXsUnWypK",
        "outputId": "b94a3a40-62a8-4d65-b7b3-1b8b98c9e858"
      },
      "execution_count": null,
      "outputs": [
        {
          "output_type": "execute_result",
          "data": {
            "text/plain": [
              "tensor([[True],\n",
              "        [True],\n",
              "        [True],\n",
              "        [True],\n",
              "        [True],\n",
              "        [True],\n",
              "        [True],\n",
              "        [True],\n",
              "        [True],\n",
              "        [True]], device='cuda:0')"
            ]
          },
          "metadata": {},
          "execution_count": 86
        }
      ]
    },
    {
      "cell_type": "code",
      "source": [],
      "metadata": {
        "id": "H7gTRPukWpYr"
      },
      "execution_count": null,
      "outputs": []
    }
  ]
}